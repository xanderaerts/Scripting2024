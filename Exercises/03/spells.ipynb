{
 "cells": [
  {
   "cell_type": "markdown",
   "metadata": {},
   "source": [
    "# Spells & potions\n",
    "\n",
    "In this task, we explore the world of Harry Potter's spells and potions. You should download the zip file HarryPotter.zip\n",
    "Download HarryPotter.zip, which contains various files: characters, potions, spells, and the first three books. In your code, you should be able to unzip the entire file and start from there.\n",
    "\n",
    "The goal is to search for the characters who use a specific spell or potion based on a book, spell, or potion.\n",
    "\n",
    "Create the following functions:\n",
    "\n",
    "   ``` mentions(book, text) ``` this function searches for the number of times a specific spell or potion appears in a book. It prints the count and also returns a dictionary of the character who used it and a list of line numbers. <br>\n",
    "   ```character(name)``` this function prints the full name, house, and age of today or at the time of their death. <br>\n",
    "   ``` calculate_age(birth,death='') ``` this helper function calculates a person's age based on their date of birth and date of death (if found). If the dates are not given in the format 'dd month yyyy' (sometimes with a comma before the year), the age cannot be calculated. <br>\n",
    "   \n",
    "   ``` spell(text) ``` this function searches for a specific spell and returns an overview of its characteristics as key-value pairs. <br>\n",
    "   ``` potion(text) ``` this function searches for a specific potion and returns an overview of its characteristics as key-value pairs. <br>\n",
    "   <br>\n",
    "Write this all in a script \"spells.py\" that should call the main() function from an ``` if __name__ == \"__main__\": ```block!\n",
    "\n",
    "\n",
    "\n",
    "### Example usage:\n",
    "\n",
    "```\n",
    "$ python3 script.py \n",
    "\n",
    "Enter book: 1\n",
    "Enter spell/potion: Alohomora\n",
    "\n",
    "4 apperances of Alohomora in book Harry Potter 1.csv\n",
    "\n",
    "Hermione on line(s) 724, 1337\n",
    "Hermione Jean Granger\n",
    "Gryffindor\n",
    "Hermione is today 43 years old.\n",
    "\n",
    "Ron on line(s) 726, 1396 \n",
    "Ronald Bilius Weasley Gryffindor \n",
    "Ron is today 43 years old.  \n",
    "\n",
    "SPELL Alohomora \n",
    "Name: Unlocking Charm \n",
    "Incantation: Alohomora \n",
    "Type: Charm \n",
    "Effect: Unlocks target\n",
    "Light: Invisible, blue, yellow, or purple\n",
    "```"
   ]
  },
  {
   "cell_type": "code",
   "execution_count": null,
   "metadata": {},
   "outputs": [],
   "source": [
    "import os\n",
    "import pathlib\n",
    "import zipfile"
   ]
  },
  {
   "cell_type": "code",
   "execution_count": null,
   "metadata": {},
   "outputs": [],
   "source": []
  },
  {
   "cell_type": "code",
   "execution_count": null,
   "metadata": {},
   "outputs": [],
   "source": [
    "if __name__ == \"__main__\":\n",
    "    book = input(\"Enter book: \")\n",
    "    text = input(\"Enter spell/potion\")\n",
    "    \n",
    "    "
   ]
  }
 ],
 "metadata": {
  "kernelspec": {
   "display_name": ".venv",
   "language": "python",
   "name": "python3"
  },
  "language_info": {
   "name": "python",
   "version": "3.11.8"
  }
 },
 "nbformat": 4,
 "nbformat_minor": 2
}
