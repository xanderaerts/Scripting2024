{
 "cells": [
  {
   "cell_type": "markdown",
   "metadata": {},
   "source": [
    "# Spells & potions\n",
    "\n",
    "In this task, we explore the world of Harry Potter's spells and potions. You should download the zip file HarryPotter.zip\n",
    "Download HarryPotter.zip, which contains various files: characters, potions, spells, and the first three books. In your code, you should be able to unzip the entire file and start from there.\n",
    "\n",
    "The goal is to search for the characters who use a specific spell or potion based on a book, spell, or potion.\n",
    "\n",
    "Create the following functions:\n",
    "\n",
    "   ``` mentions(book, text) ``` this function searches for the number of times a specific spell or potion appears in a book. It prints the count and also returns a dictionary of the character who used it and a list of line numbers. <br>\n",
    "   ```character(name)``` this function prints the full name, house, and age of today or at the time of their death. <br>\n",
    "   ``` calculate_age(birth,death='') ``` this helper function calculates a person's age based on their date of birth and date of death (if found). If the dates are not given in the format 'dd month yyyy' (sometimes with a comma before the year), the age cannot be calculated. <br>\n",
    "   \n",
    "   ``` spell(text) ``` this function searches for a specific spell and returns an overview of its characteristics as key-value pairs. <br>\n",
    "   ``` potion(text) ``` this function searches for a specific potion and returns an overview of its characteristics as key-value pairs. <br>\n",
    "   <br>\n",
    "Write this all in a script \"spells.py\" that should call the main() function from an ``` if __name__ == \"__main__\": ```block!\n",
    "\n",
    "\n",
    "\n",
    "### Example usage:\n",
    "\n",
    "```\n",
    "$ python3 script.py \n",
    "\n",
    "Enter book: 1\n",
    "Enter spell/potion: Alohomora\n",
    "\n",
    "4 apperances of Alohomora in book Harry Potter 1.csv\n",
    "\n",
    "Hermione on line(s) 724, 1337\n",
    "Hermione Jean Granger\n",
    "Gryffindor\n",
    "Hermione is today 43 years old.\n",
    "\n",
    "Ron on line(s) 726, 1396 \n",
    "Ronald Bilius Weasley Gryffindor \n",
    "Ron is today 43 years old.  \n",
    "\n",
    "SPELL Alohomora \n",
    "Name: Unlocking Charm \n",
    "Incantation: Alohomora \n",
    "Type: Charm \n",
    "Effect: Unlocks target\n",
    "Light: Invisible, blue, yellow, or purple\n",
    "```"
   ]
  },
  {
   "cell_type": "markdown",
   "metadata": {},
   "source": [
    "# Code\n",
    "\n",
    "### Imports"
   ]
  },
  {
   "cell_type": "code",
   "execution_count": 2,
   "metadata": {},
   "outputs": [],
   "source": [
    "import os\n",
    "import pathlib\n",
    "import zipfile\n",
    "import csv\n",
    "from datetime import datetime"
   ]
  },
  {
   "cell_type": "markdown",
   "metadata": {},
   "source": [
    "### Functions"
   ]
  },
  {
   "cell_type": "code",
   "execution_count": 14,
   "metadata": {},
   "outputs": [
    {
     "name": "stdout",
     "output_type": "stream",
     "text": [
      "{}\n",
      "dict_keys([])\n",
      "Hermione\n",
      "name Hermione\n",
      "char {'name': 'Hermione Jean Granger', 'house': 'Gryffindor', 'age': 44, 'mentions': []}\n",
      "{'Hermione': {'name': 'Hermione Jean Granger', 'house': 'Gryffindor', 'age': 44, 'mentions': [723]}}\n",
      "dict_keys(['Hermione'])\n",
      "Ron\n",
      "name Ron\n",
      "char {'name': 'Ronald Bilius Weasley', 'house': 'Gryffindor', 'age': 44, 'mentions': []}\n",
      "{'Hermione': {'name': 'Hermione Jean Granger', 'house': 'Gryffindor', 'age': 44, 'mentions': [723]}, 'Ron': {'name': 'Ronald Bilius Weasley', 'house': 'Gryffindor', 'age': 44, 'mentions': [725]}}\n",
      "dict_keys(['Hermione', 'Ron'])\n",
      "Hermione  \n",
      "name Hermione  \n",
      "char None\n"
     ]
    },
    {
     "ename": "TypeError",
     "evalue": "'NoneType' object is not subscriptable",
     "output_type": "error",
     "traceback": [
      "\u001b[0;31m---------------------------------------------------------------------------\u001b[0m",
      "\u001b[0;31mTypeError\u001b[0m                                 Traceback (most recent call last)",
      "Cell \u001b[0;32mIn[14], line 75\u001b[0m\n\u001b[1;32m     64\u001b[0m                 charDict \u001b[38;5;241m=\u001b[39m {\n\u001b[1;32m     65\u001b[0m                     \u001b[38;5;124m\"\u001b[39m\u001b[38;5;124mname\u001b[39m\u001b[38;5;124m\"\u001b[39m: char[\u001b[38;5;241m1\u001b[39m],\n\u001b[1;32m     66\u001b[0m                     \u001b[38;5;124m\"\u001b[39m\u001b[38;5;124mhouse\u001b[39m\u001b[38;5;124m\"\u001b[39m: char[\u001b[38;5;241m4\u001b[39m],\n\u001b[1;32m     67\u001b[0m                     \u001b[38;5;124m\"\u001b[39m\u001b[38;5;124mage\u001b[39m\u001b[38;5;124m\"\u001b[39m: calculate_age(char[\u001b[38;5;241m13\u001b[39m],char[\u001b[38;5;241m14\u001b[39m]),\n\u001b[1;32m     68\u001b[0m                     \u001b[38;5;124m\"\u001b[39m\u001b[38;5;124mmentions\u001b[39m\u001b[38;5;124m\"\u001b[39m: []\n\u001b[1;32m     69\u001b[0m                 }\n\u001b[1;32m     70\u001b[0m                 \u001b[38;5;28;01mreturn\u001b[39;00m charDict\n\u001b[0;32m---> 75\u001b[0m \u001b[43mmentions\u001b[49m\u001b[43m(\u001b[49m\u001b[38;5;124;43m\"\u001b[39;49m\u001b[38;5;124;43m1\u001b[39;49m\u001b[38;5;124;43m\"\u001b[39;49m\u001b[43m,\u001b[49m\u001b[38;5;124;43m\"\u001b[39;49m\u001b[38;5;124;43mAlohomora\u001b[39;49m\u001b[38;5;124;43m\"\u001b[39;49m\u001b[43m)\u001b[49m\n",
      "Cell \u001b[0;32mIn[14], line 32\u001b[0m, in \u001b[0;36mmentions\u001b[0;34m(book, text)\u001b[0m\n\u001b[1;32m     30\u001b[0m             \u001b[38;5;28mprint\u001b[39m(\u001b[38;5;124m\"\u001b[39m\u001b[38;5;124mchar\u001b[39m\u001b[38;5;124m\"\u001b[39m,char)\n\u001b[1;32m     31\u001b[0m             chars[parts[\u001b[38;5;241m0\u001b[39m]] \u001b[38;5;241m=\u001b[39m char\n\u001b[0;32m---> 32\u001b[0m             \u001b[43mchars\u001b[49m\u001b[43m[\u001b[49m\u001b[43mparts\u001b[49m\u001b[43m[\u001b[49m\u001b[38;5;241;43m0\u001b[39;49m\u001b[43m]\u001b[49m\u001b[43m]\u001b[49m\u001b[43m[\u001b[49m\u001b[38;5;124;43m\"\u001b[39;49m\u001b[38;5;124;43mmentions\u001b[39;49m\u001b[38;5;124;43m\"\u001b[39;49m\u001b[43m]\u001b[49m\u001b[38;5;241m.\u001b[39mappend(linenumber)\n\u001b[1;32m     34\u001b[0m \u001b[38;5;28;01mfor\u001b[39;00m ch \u001b[38;5;129;01min\u001b[39;00m chars: \n\u001b[1;32m     36\u001b[0m     \u001b[38;5;28mprint\u001b[39m(ch)\n",
      "\u001b[0;31mTypeError\u001b[0m: 'NoneType' object is not subscriptable"
     ]
    }
   ],
   "source": [
    "def unzip():\n",
    "    zipbestand = zipfile.ZipFile(\"HarryPotter.zip\",\"r\")\n",
    "    zipbestand.extractall()\n",
    "    zipbestand.close()\n",
    "\n",
    "def mentions(book, text):\n",
    "    FILE =  open(\"Harry Potter \" + book + \".csv\",\"r\")\n",
    "    csvfile = csv.reader(FILE)\n",
    "    \n",
    "    linenumber = 0\n",
    "    chars = {}\n",
    "    \n",
    "    for line in csvfile:\n",
    "        linenumber += 1\n",
    "        \n",
    "        parts = line[0].split(\";\")\n",
    "            \n",
    "\n",
    "        if len(parts) > 1 and text in parts[1]:           \n",
    "            print(chars)\n",
    "            print(chars.keys())\n",
    "            print(parts[0])\n",
    "\n",
    "            if(parts[0] in chars.keys()):\n",
    "                print(\"test\")\n",
    "                chars[parts[0]][\"mentions\"].append(linenumber)\n",
    "            else:\n",
    "                char = character(parts[0])\n",
    "\n",
    "                print(\"char\",char)\n",
    "                chars[parts[0]] = char\n",
    "                chars[parts[0]][\"mentions\"].append(linenumber)\n",
    "\n",
    "    for ch in chars: \n",
    "\n",
    "        print(ch)\n",
    "\n",
    "def calculate_age(birth, death = ''):\n",
    "\n",
    "    now = datetime.now()\n",
    "\n",
    "    birth = birth.replace(\",\",\"\")\n",
    "\n",
    "    try: \n",
    "        birth_obj = datetime.strptime(birth,\"%d %B %Y\")\n",
    "        \n",
    "    except:\n",
    "        return \"\"\n",
    "    try: \n",
    "        death_obj = datetime.strptime(death,\"%d %B %Y\")\n",
    "        \n",
    "        return (death_obj - birth_obj).days // 365\n",
    "\n",
    "    except:\n",
    "        return (now - birth_obj).days // 365\n",
    "\n",
    "def character(name):\n",
    "\n",
    "    print(\"name\",name)\n",
    "    with open(\"Characters.csv\",\"r\") as file:\n",
    "        for line in file:\n",
    "            if name in line:\n",
    "                char = line.split(\";\")\n",
    "                charDict = {\n",
    "                    \"name\": char[1],\n",
    "                    \"house\": char[4],\n",
    "                    \"age\": calculate_age(char[13],char[14]),\n",
    "                    \"mentions\": []\n",
    "                }\n",
    "                return charDict\n",
    "\n",
    "\n",
    "\n",
    "\n",
    "mentions(\"1\",\"Alohomora\")\n"
   ]
  },
  {
   "cell_type": "markdown",
   "metadata": {},
   "source": [
    "### Main"
   ]
  },
  {
   "cell_type": "code",
   "execution_count": null,
   "metadata": {},
   "outputs": [],
   "source": [
    "if __name__ == \"__main__\":\n",
    "    book = input(\"Enter book: \")\n",
    "    text = input(\"Enter spell/potion\")\n",
    "\n",
    "    unzip()\n",
    "    mentions(book,text)\n",
    "\n",
    "    "
   ]
  }
 ],
 "metadata": {
  "kernelspec": {
   "display_name": ".venv",
   "language": "python",
   "name": "python3"
  },
  "language_info": {
   "codemirror_mode": {
    "name": "ipython",
    "version": 3
   },
   "file_extension": ".py",
   "mimetype": "text/x-python",
   "name": "python",
   "nbconvert_exporter": "python",
   "pygments_lexer": "ipython3",
   "version": "3.11.8"
  }
 },
 "nbformat": 4,
 "nbformat_minor": 2
}
