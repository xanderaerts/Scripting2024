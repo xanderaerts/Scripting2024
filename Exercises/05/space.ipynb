{
 "cells": [
  {
   "cell_type": "markdown",
   "metadata": {},
   "source": [
    "# Rocket Sience \n",
    "\n",
    "Astronomy is considered one of the most difficult fields of study, hence the phrase 'it's not rocket science'... However, space is a very interesting field, even for children. Therefore, in this assignment, let's make the most difficult aspects of astronomy as accessible as possible for children!\n",
    "\n",
    "For this assignment, you will need to create four functions that relate to space education for children. The functions are as follows:\n",
    "\n",
    "- explain(text) This function gathers information from https://spaceplace.nasa.gov/glossary/en/ and prints a kidsproof definition for the given term. Print out ''No definition found!' if nothing was found.\n",
    "- related(text) This function will print 5 related words to a specific term from https://relatedwords.io. Print out ''No related terms!' if nothing was found.\n",
    "- coloring(text) This function will download the first coloring page from https://www.ultracoloringpages.com that relates to the given term. Print out 'Failed to download image!' if nothing was found.\n",
    "- book(text) This function will search for the first children's book that has the specific term in its title or description from the list of space books for kids. Print out ''No related terms!' if nothing was found. provided at https://childhood101.com/space-books-for-kids/ and prints its information. Print out ''No book found!' if nothing was found.\n",
    "\n",
    "Think very carefully about extra functions, is it necessary to scrape each page every time, or can you scrape certain pages once and store that information in a dictionary or a list? That's why you should provide at least one extra function, but hopefully, you'll create more! This is an exercise in how to make your code better, more structured, but especially less aggressive because don't forget that web scraping is in a gray area.\n",
    "\n",
    "Write this all in a script \"space.py\" that calls the main() function from an if __name__ == \"__main__\": block!\n",
    "\n",
    "Please note that only BeautifulSoup and Requests are the allowable external packages for this assignment, which are already accessible in Codegrade.\n"
   ]
  },
  {
   "cell_type": "markdown",
   "metadata": {},
   "source": [
    "# Code \n",
    "## Imports"
   ]
  },
  {
   "cell_type": "code",
   "execution_count": null,
   "metadata": {},
   "outputs": [],
   "source": [
    "from bs4 import BeautifulSoup\n",
    "import requests"
   ]
  },
  {
   "cell_type": "markdown",
   "metadata": {},
   "source": [
    "## Functions"
   ]
  },
  {
   "cell_type": "code",
   "execution_count": null,
   "metadata": {},
   "outputs": [],
   "source": [
    "def explain(text):\n",
    "    url = \"https://spaceplace.nasa.gov/glossary/en/\"\n",
    "    \n",
    "    soup = urlToSoup(url)\n",
    "\n",
    "    contentDiv = soup.find(\"div\",{\"class\",\"content\"})\n",
    "    spaceTerms = contentDiv.findAll(\"p\")\n",
    "    \n",
    "    for s in spaceTerms:\n",
    "        splited = s.text.split(\":\")\n",
    "        if text.lower() == splited[0].lower():\n",
    "            print(splited[1])\n",
    "            return 0\n",
    "\n",
    "    print(\"No definition found!\")\n",
    "\n",
    "def related(text):\n",
    "    url = \"https://relatedwords.io/\" + text\n",
    "    \n",
    "    soup = urlToSoup(url)\n",
    "\n",
    "    list = soup.findAll(\"span\",{\"class\",\"term\"})\n",
    "\n",
    "    terms = []\n",
    "\n",
    "    for i in range (0,len(list)):\n",
    "        terms.append(list[i].text.strip())\n",
    "        print(list[i].text.strip())\n",
    "        if i == 4: return 0\n",
    "    \n",
    "    print(\"No related terms!\")\n",
    "\n",
    "def coloring(text):\n",
    "    url = \"https://www.ultracoloringpages.com/s/\" + text +\"-coloring-pages\"\n",
    "    \n",
    "    soup = urlToSoup(url)\n",
    "\n",
    "    content = soup.find(\"div\",{\"class\",\"page-thumb\"})\n",
    "\n",
    "    if content != None:\n",
    "        for img in content.findAll(\"img\"):\n",
    "            name = img.get('alt').split(\" \")[0]\n",
    "            img_url = img[\"src\"]\n",
    "            filename = name + \".png\"\n",
    "\n",
    "            with open(filename,\"wb\") as f:\n",
    "                resp = requests.get(img_url)\n",
    "                f.write(resp.content)\n",
    "\n",
    "        print(\"Downloaded\",filename)\n",
    "        return 0   \n",
    "    print(\"Failed to download image!\")\n",
    "\n",
    "def book(text):\n",
    "    url = \"https://childhood101.com/space-books-for-kids/\"\n",
    "    \n",
    "    soup = urlToSoup(url)\n",
    "\n",
    "    content = soup.find_all(\"tr\")\n",
    "\n",
    "    for c in content:\n",
    "        splitted = c.text.split(\":\")\n",
    "        \n",
    "        if text.lower() in  c.text.lower():\n",
    "            title = splitted[0].strip()\n",
    "            rest = splitted[1].replace(\"Available\", \"\")\n",
    "            print(title +\":\" + rest)\n",
    "            return 0\n",
    "    print(\"No book found!\")\n",
    "\n",
    "def urlToSoup(url):\n",
    "    resp = requests.get(url)\n",
    "    soup = BeautifulSoup(resp.text)\n",
    "    return soup"
   ]
  },
  {
   "cell_type": "markdown",
   "metadata": {},
   "source": [
    "## Main"
   ]
  },
  {
   "cell_type": "code",
   "execution_count": 29,
   "metadata": {},
   "outputs": [
    {
     "name": "stdout",
     "output_type": "stream",
     "text": [
      "No definition found!\n",
      "\n",
      "moon\n",
      "vitiate\n",
      "deface\n",
      "venus\n",
      "gouge\n",
      "\n",
      "Downloaded candybar.png\n",
      "\n",
      "You Are the First Kid On Mars by Patrick O’Brien: Can you imagine being the first kid to go to Mars? Now you can! Head off on an incredible journey, over 35 million miles to the amazing red planet.\n",
      "\n"
     ]
    }
   ],
   "source": [
    "def main():\n",
    "    term = input(\"Enter a space related term: \")\n",
    "    term = term.strip().lower()\n",
    "\n",
    "    explain(term)\n",
    "    print()\n",
    "    \n",
    "    related(term)\n",
    "    print()\n",
    "    \n",
    "    coloring(term)\n",
    "    print()\n",
    "    \n",
    "    book(term)\n",
    "\n",
    "if __name__ == \"__main__\":\n",
    "    main()\n"
   ]
  }
 ],
 "metadata": {
  "kernelspec": {
   "display_name": ".venv",
   "language": "python",
   "name": "python3"
  },
  "language_info": {
   "codemirror_mode": {
    "name": "ipython",
    "version": 3
   },
   "file_extension": ".py",
   "mimetype": "text/x-python",
   "name": "python",
   "nbconvert_exporter": "python",
   "pygments_lexer": "ipython3",
   "version": "3.11.8"
  }
 },
 "nbformat": 4,
 "nbformat_minor": 2
}
