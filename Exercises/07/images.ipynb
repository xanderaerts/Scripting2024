{
 "cells": [
  {
   "cell_type": "markdown",
   "metadata": {},
   "source": [
    "# Image compression"
   ]
  },
  {
   "cell_type": "code",
   "execution_count": 31,
   "metadata": {},
   "outputs": [
    {
     "ename": "ModuleNotFoundError",
     "evalue": "No module named 'images'",
     "output_type": "error",
     "traceback": [
      "\u001b[0;31m---------------------------------------------------------------------------\u001b[0m",
      "\u001b[0;31mModuleNotFoundError\u001b[0m                       Traceback (most recent call last)",
      "Cell \u001b[0;32mIn[31], line 3\u001b[0m\n\u001b[1;32m      1\u001b[0m \u001b[38;5;28;01mfrom\u001b[39;00m \u001b[38;5;21;01mPIL\u001b[39;00m \u001b[38;5;28;01mimport\u001b[39;00m Image\n\u001b[1;32m      2\u001b[0m \u001b[38;5;28;01mimport\u001b[39;00m \u001b[38;5;21;01mnumpy\u001b[39;00m \u001b[38;5;28;01mas\u001b[39;00m \u001b[38;5;21;01mnp\u001b[39;00m\n\u001b[0;32m----> 3\u001b[0m \u001b[38;5;28;01mimport\u001b[39;00m \u001b[38;5;21;01mimages\u001b[39;00m\n\u001b[1;32m      4\u001b[0m \u001b[38;5;28;01mfrom\u001b[39;00m \u001b[38;5;21;01mimageai\u001b[39;00m\u001b[38;5;21;01m.\u001b[39;00m\u001b[38;5;21;01mDetection\u001b[39;00m \u001b[38;5;28;01mimport\u001b[39;00m ObjectDetection\n",
      "\u001b[0;31mModuleNotFoundError\u001b[0m: No module named 'images'"
     ]
    }
   ],
   "source": [
    "from PIL import Image\n",
    "import numpy as np\n",
    "import images\n",
    "from imageai.Detection import ObjectDetection"
   ]
  },
  {
   "cell_type": "code",
   "execution_count": 33,
   "metadata": {},
   "outputs": [],
   "source": [
    "basic_colors = [\n",
    "    (255, 255, 255),  # white\n",
    "    (0, 0, 0),        # black\n",
    "    (255, 0, 0),      # red\n",
    "    (0, 255, 0),      # green\n",
    "    (0, 0, 255),      # blue\n",
    "    (255, 255, 0),    # yellow\n",
    "    (255, 0, 255),    # magenta\n",
    "    (0, 255, 255)     # cyan\n",
    "]\n",
    "\n",
    "def rgb2hex(r, g, b):\n",
    "    return f'#{r:02x}{g:02x}{b:02x}'\n",
    "\n",
    "def rle_encode(image):\n",
    "    img = Image.open(image).convert('RGB')\n",
    "    pixels = list(img.getdata())\n",
    "\n",
    "    imagename = image.rsplit('.',1)[0]\n",
    "\n",
    "    output_file = f'{imagename}.txt'\n",
    "\n",
    "    encoded_data = []\n",
    "\n",
    "    count = 1\n",
    "\n",
    "    prev_pixel = rgb2hex(*pixels[0])\n",
    "\n",
    "    for current_pixel in pixels[1:]:\n",
    "        current_pixel_hex = rgb2hex(*current_pixel)\n",
    "\n",
    "        if current_pixel_hex == prev_pixel:\n",
    "            count += 1\n",
    "        else:\n",
    "            encoded_data.append(f'{prev_pixel}{count}')\n",
    "            count = 1\n",
    "            prev_pixel = current_pixel_hex\n",
    "    encoded_data.append(f'{prev_pixel}{count}')\n",
    "\n",
    "    with open(output_file,'w') as file:\n",
    "        file.write('\\n'.join(encoded_data))\n",
    "    print(f'{output_file} created')\n",
    "\n",
    "def color_distance(color1, color2):\n",
    "    return np.linalg.norm(np.array(color1) - np.array(color2))\n",
    "\n",
    "def closest_color(color):\n",
    "    return min(basic_colors, key=lambda bc: color_distance(color, bc))\n",
    "\n",
    "def reduce_colors(image_path):\n",
    "\n",
    "    output_path = f'new_{image_path}'\n",
    "\n",
    "    img = Image.open(image_path).convert('RGB')\n",
    "    pixels = np.array(img)\n",
    "\n",
    "    reduced_pixels = np.array([[closest_color(pixel) for pixel in row] for row in pixels], dtype=np.uint8)\n",
    "\n",
    "    reduced_img = Image.fromarray(reduced_pixels)\n",
    "    reduced_img.save(output_path, 'JPEG')\n",
    "\n",
    "    print(f'{output_path} created')\n",
    "\n",
    "def object_detection(image):\n",
    "    Detector = ObjectDetection()\n",
    "\n",
    "    Detector.setModelTypeAsTinyYOLOv3()\n",
    "\n",
    "    Detector.setModelPath(\"tiny-yolov3.pt\")\n",
    "\n",
    "    Detector.loadModel()\n",
    "    \n",
    "    Detections = Detector.detectObjectsFromImage(image, minimum_percentage_probability=30)\n",
    "    \n",
    "    if len(Detections) == 0:\n",
    "            print(\"No objects found!\")\n",
    "\n",
    "    Detections = reversed(Detections)\n",
    "    \n",
    "    Object_Count_Dict = {}\n",
    "\n",
    "    for object in Detections:\n",
    "\n",
    "        Object_Name = object[\"name\"]\n",
    "\n",
    "        if Object_Name in Object_Count_Dict: \n",
    "\n",
    "            Object_Count_Dict[Object_Name] +=1\n",
    "\n",
    "        else:\n",
    "\n",
    "            Object_Count_Dict[Object_Name] = 1\n",
    "    \n",
    "    for name, count in Object_Count_Dict.items():\n",
    "        print(count, name)\n"
   ]
  },
  {
   "cell_type": "code",
   "execution_count": 35,
   "metadata": {},
   "outputs": [
    {
     "name": "stdout",
     "output_type": "stream",
     "text": [
      "image7.txt created\n",
      "new_image7.jpg created\n",
      "2 boat\n",
      "3 person\n"
     ]
    }
   ],
   "source": [
    "def main():\n",
    "    imageName = input().strip().lower()\n",
    "\n",
    "    try:\n",
    "        rle_encode(imageName)\n",
    "        reduce_colors(imageName) \n",
    "        object_detection(imageName)\n",
    "    except:\n",
    "        print(\"There went something wrong!\")\n",
    "\n",
    "if __name__ == \"__main__\":\n",
    "    main()"
   ]
  }
 ],
 "metadata": {
  "kernelspec": {
   "display_name": ".venv",
   "language": "python",
   "name": "python3"
  },
  "language_info": {
   "codemirror_mode": {
    "name": "ipython",
    "version": 3
   },
   "file_extension": ".py",
   "mimetype": "text/x-python",
   "name": "python",
   "nbconvert_exporter": "python",
   "pygments_lexer": "ipython3",
   "version": "3.12.3"
  }
 },
 "nbformat": 4,
 "nbformat_minor": 2
}
