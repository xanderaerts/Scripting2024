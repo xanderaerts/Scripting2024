{
 "cells": [
  {
   "cell_type": "markdown",
   "metadata": {},
   "source": [
    "# Matrices \n",
    "\n",
    "In this assignment, you will work with nested lists to represent matrices. Create a script called matrices.py. IMPORTANT: You're not allowed to use any libraries in this assignment.\n",
    "\n",
    "In this script, you will load in a matrix and create functions to do a scalar multiplication and transpose operation with a matrix. Both functions require you to create a new nest matrix and fill that with the processed elements of the given matrix. You can use the list .append() function to append respectively elements and full rows to a list / matrix.\n",
    "\n",
    "In matrices.py create these three functions:\n",
    "\n",
    "- read_matrix(): Ask the user to input a matrix per row, with spaces between the numbers / items of the matrix. You do not need input checking (i.e. check if the input is a digit or if all rows are equal     length) as we expect the user to input a valid matrix. Make sure to cast all input to integers. Return the matrix once the user inputs nothing.\n",
    "    \n",
    "- scalar_multiplication(matrix, scalar): In a scalar multiplication, you will multiply each individual component in the matrix with the given scalar. This function should return the resulting matrix.\n",
    "\n",
    "- transpose(matrix): A transpose of a matrix is an operation that flips the matrix over its diagonal, in other words: it switches the rows and columns. This function should return the transposed matrix (please note that the size of the transposed matrix is often different from the original).\n",
    "- \n",
    "Example usage:\n",
    "``` \n",
    "$ python3 matrices.py\n",
    "Please input your matrix below:\n",
    "3 2 1\n",
    "1 2 3\n",
    "Your matrix:\n",
    "[[3, 2, 1], [1, 2, 3]]\n",
    "Scalar multiplication with 8:\n",
    "[[24, 16, 8], [8, 16, 24]]\n",
    "Transposition:\n",
    "[[3, 1], [2, 2], [1, 3]]\n",
    "\n",
    "$ python3 matrices.py\n",
    "Please input your matrix below:\n",
    "1 2\n",
    "3 4\n",
    "5 6\n",
    "7 8\n",
    "Your matrix:\n",
    "[[1, 2], [3, 4], [5, 6], [7, 8]]\n",
    "Scalar multiplication with 8:\n",
    "[[8, 16], [24, 32], [40, 48], [56, 64]]\n",
    "Transposition:\n",
    "[[1, 3, 5, 7], [2, 4, 6, 8]] \n",
    "```"
   ]
  },
  {
   "cell_type": "code",
   "execution_count": 31,
   "metadata": {},
   "outputs": [],
   "source": [
    "def ReadMatrix():\n",
    "    print(\"Please input your matrix below\")\n",
    "\n",
    "    matrix = []\n",
    "    raw = input()\n",
    "\n",
    "    while raw != \"\":\n",
    "        matrix.append([int(i) for i in raw.split()])\n",
    "        raw = input()\n",
    "    return matrix"
   ]
  },
  {
   "cell_type": "code",
   "execution_count": 32,
   "metadata": {},
   "outputs": [],
   "source": [
    "def scalar_multiplications(matrix, scalar): \n",
    "    multipyMatrix = []\n",
    "\n",
    "    for row in matrix:\n",
    "        newRow = []\n",
    "        for col in row:\n",
    "            newRow.append(col* scalar)\n",
    "        multipyMatrix.append(newRow)\n",
    "\n",
    "    return multipyMatrix "
   ]
  },
  {
   "cell_type": "code",
   "execution_count": 33,
   "metadata": {},
   "outputs": [],
   "source": [
    "def Transposition(matrix):\n",
    "    transMaxtrix = []\n",
    "\n",
    "    for i in range(len(matrix[0])):\n",
    "        newrow = []\n",
    "        for j in range( len(matrix)):\n",
    "            newrow.append(matrix[j][i])\n",
    "        transMaxtrix.append(newrow)\n",
    "    return transMaxtrix "
   ]
  },
  {
   "cell_type": "markdown",
   "metadata": {},
   "source": [
    "## Main Code"
   ]
  },
  {
   "cell_type": "code",
   "execution_count": 34,
   "metadata": {},
   "outputs": [
    {
     "name": "stdout",
     "output_type": "stream",
     "text": [
      "Please input your matrix below\n",
      "Your matrix:\n",
      "[[1, 2], [3, 4], [5, 6], [7, 8]]\n",
      "Scalar multiplication with 8:\n",
      "[[8, 16], [24, 32], [40, 48], [56, 64]]\n",
      "Transposition:\n",
      "[[1, 3, 5, 7], [2, 4, 6, 8]]\n"
     ]
    }
   ],
   "source": [
    "if __name__ == \"__main__\":\n",
    "    matrix = ReadMatrix()\n",
    "    print(\"Your matrix:\")\n",
    "    print(matrix)\n",
    "\n",
    "    scalar = 8\n",
    "\n",
    "    newmatrix = scalar_multiplications(matrix, scalar)\n",
    "    print(\"Scalar multiplication with 8:\")\n",
    "    print(newmatrix)\n",
    "\n",
    "    transMatrix = Transposition(matrix)\n",
    "    print(\"Transposition:\")\n",
    "    print(transMatrix)"
   ]
  }
 ],
 "metadata": {
  "kernelspec": {
   "display_name": "Python 3",
   "language": "python",
   "name": "python3"
  },
  "language_info": {
   "codemirror_mode": {
    "name": "ipython",
    "version": 3
   },
   "file_extension": ".py",
   "mimetype": "text/x-python",
   "name": "python",
   "nbconvert_exporter": "python",
   "pygments_lexer": "ipython3",
   "version": "3.11.8"
  }
 },
 "nbformat": 4,
 "nbformat_minor": 2
}
