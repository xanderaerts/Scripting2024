{
 "cells": [
  {
   "cell_type": "markdown",
   "metadata": {},
   "source": [
    "# Matrices \n",
    "\n",
    "In this assignment, you will work with nested lists to represent matrices. Create a script called matrices.py. IMPORTANT: You're not allowed to use any libraries in this assignment.\n",
    "\n",
    "In this script, you will load in a matrix and create functions to do a scalar multiplication and transpose operation with a matrix. Both functions require you to create a new nest matrix and fill that with the processed elements of the given matrix. You can use the list .append() function to append respectively elements and full rows to a list / matrix.\n",
    "\n",
    "In matrices.py create these three functions:\n",
    "\n",
    "- read_matrix(): Ask the user to input a matrix per row, with spaces between the numbers / items of the matrix. You do not need input checking (i.e. check if the input is a digit or if all rows are equal     length) as we expect the user to input a valid matrix. Make sure to cast all input to integers. Return the matrix once the user inputs nothing.\n",
    "    \n",
    "- scalar_multiplication(matrix, scalar): In a scalar multiplication, you will multiply each individual component in the matrix with the given scalar. This function should return the resulting matrix.\n",
    "\n",
    "- transpose(matrix): A transpose of a matrix is an operation that flips the matrix over its diagonal, in other words: it switches the rows and columns. This function should return the transposed matrix (please note that the size of the transposed matrix is often different from the original).\n",
    "- \n",
    "Example usage:\n",
    "``` \n",
    "$ python3 matrices.py\n",
    "Please input your matrix below:\n",
    "3 2 1\n",
    "1 2 3\n",
    "Your matrix:\n",
    "[[3, 2, 1], [1, 2, 3]]\n",
    "Scalar multiplication with 8:\n",
    "[[24, 16, 8], [8, 16, 24]]\n",
    "Transposition:\n",
    "[[3, 1], [2, 2], [1, 3]]\n",
    "\n",
    "$ python3 matrices.py\n",
    "Please input your matrix below:\n",
    "1 2\n",
    "3 4\n",
    "5 6\n",
    "7 8\n",
    "Your matrix:\n",
    "[[1, 2], [3, 4], [5, 6], [7, 8]]\n",
    "Scalar multiplication with 8:\n",
    "[[8, 16], [24, 32], [40, 48], [56, 64]]\n",
    "Transposition:\n",
    "[[1, 3, 5, 7], [2, 4, 6, 8]] \n",
    "```"
   ]
  },
  {
   "cell_type": "code",
   "execution_count": 27,
   "metadata": {},
   "outputs": [],
   "source": [
    "def read_matrix():\n",
    "    print(\"Please input your matrix below\")\n",
    "\n",
    "    matrix = []\n",
    "    raw = input()\n",
    "\n",
    "    while raw != \"\":\n",
    "        matrix.append([int(i) for i in raw.split()])\n",
    "        raw = input()\n",
    "    return matrix"
   ]
  },
  {
   "cell_type": "code",
   "execution_count": 28,
   "metadata": {},
   "outputs": [],
   "source": [
    "def scalar_multiplication(matrix, scalar): \n",
    "    multipyMatrix = []\n",
    "\n",
    "    for row in matrix:\n",
    "        newRow = []\n",
    "        for col in row:\n",
    "            newRow.append(col* scalar)\n",
    "        multipyMatrix.append(newRow)\n",
    "\n",
    "    return multipyMatrix "
   ]
  },
  {
   "cell_type": "code",
   "execution_count": 29,
   "metadata": {},
   "outputs": [],
   "source": [
    "def transpose(matrix):\n",
    "    transMaxtrix = []\n",
    "\n",
    "    for i in range(len(matrix[0])):\n",
    "        newrow = []\n",
    "        for j in range( len(matrix)):\n",
    "            newrow.append(matrix[j][i])\n",
    "        transMaxtrix.append(newrow)\n",
    "    return transMaxtrix "
   ]
  },
  {
   "cell_type": "markdown",
   "metadata": {},
   "source": [
    "## Main Code"
   ]
  },
  {
   "cell_type": "code",
   "execution_count": 30,
   "metadata": {},
   "outputs": [
    {
     "name": "stdout",
     "output_type": "stream",
     "text": [
      "Please input your matrix below\n"
     ]
    },
    {
     "ename": "ValueError",
     "evalue": "invalid literal for int() with base 10: 'µ1'",
     "output_type": "error",
     "traceback": [
      "\u001b[0;31m---------------------------------------------------------------------------\u001b[0m",
      "\u001b[0;31mValueError\u001b[0m                                Traceback (most recent call last)",
      "Cell \u001b[0;32mIn[30], line 2\u001b[0m\n\u001b[1;32m      1\u001b[0m \u001b[38;5;28;01mif\u001b[39;00m \u001b[38;5;18m__name__\u001b[39m \u001b[38;5;241m==\u001b[39m \u001b[38;5;124m\"\u001b[39m\u001b[38;5;124m__main__\u001b[39m\u001b[38;5;124m\"\u001b[39m:\n\u001b[0;32m----> 2\u001b[0m     matrix \u001b[38;5;241m=\u001b[39m \u001b[43mReadMatrix\u001b[49m\u001b[43m(\u001b[49m\u001b[43m)\u001b[49m\n\u001b[1;32m      3\u001b[0m     \u001b[38;5;28mprint\u001b[39m(\u001b[38;5;124m\"\u001b[39m\u001b[38;5;124mYour matrix:\u001b[39m\u001b[38;5;124m\"\u001b[39m)\n\u001b[1;32m      4\u001b[0m     \u001b[38;5;28mprint\u001b[39m(matrix)\n",
      "Cell \u001b[0;32mIn[27], line 8\u001b[0m, in \u001b[0;36mReadMatrix\u001b[0;34m()\u001b[0m\n\u001b[1;32m      5\u001b[0m raw \u001b[38;5;241m=\u001b[39m \u001b[38;5;28minput\u001b[39m()\n\u001b[1;32m      7\u001b[0m \u001b[38;5;28;01mwhile\u001b[39;00m raw \u001b[38;5;241m!=\u001b[39m \u001b[38;5;124m\"\u001b[39m\u001b[38;5;124m\"\u001b[39m:\n\u001b[0;32m----> 8\u001b[0m     matrix\u001b[38;5;241m.\u001b[39mappend(\u001b[43m[\u001b[49m\u001b[38;5;28;43mint\u001b[39;49m\u001b[43m(\u001b[49m\u001b[43mi\u001b[49m\u001b[43m)\u001b[49m\u001b[43m \u001b[49m\u001b[38;5;28;43;01mfor\u001b[39;49;00m\u001b[43m \u001b[49m\u001b[43mi\u001b[49m\u001b[43m \u001b[49m\u001b[38;5;129;43;01min\u001b[39;49;00m\u001b[43m \u001b[49m\u001b[43mraw\u001b[49m\u001b[38;5;241;43m.\u001b[39;49m\u001b[43msplit\u001b[49m\u001b[43m(\u001b[49m\u001b[43m)\u001b[49m\u001b[43m]\u001b[49m)\n\u001b[1;32m      9\u001b[0m     raw \u001b[38;5;241m=\u001b[39m \u001b[38;5;28minput\u001b[39m()\n\u001b[1;32m     10\u001b[0m \u001b[38;5;28;01mreturn\u001b[39;00m matrix\n",
      "Cell \u001b[0;32mIn[27], line 8\u001b[0m, in \u001b[0;36m<listcomp>\u001b[0;34m(.0)\u001b[0m\n\u001b[1;32m      5\u001b[0m raw \u001b[38;5;241m=\u001b[39m \u001b[38;5;28minput\u001b[39m()\n\u001b[1;32m      7\u001b[0m \u001b[38;5;28;01mwhile\u001b[39;00m raw \u001b[38;5;241m!=\u001b[39m \u001b[38;5;124m\"\u001b[39m\u001b[38;5;124m\"\u001b[39m:\n\u001b[0;32m----> 8\u001b[0m     matrix\u001b[38;5;241m.\u001b[39mappend([\u001b[38;5;28;43mint\u001b[39;49m\u001b[43m(\u001b[49m\u001b[43mi\u001b[49m\u001b[43m)\u001b[49m \u001b[38;5;28;01mfor\u001b[39;00m i \u001b[38;5;129;01min\u001b[39;00m raw\u001b[38;5;241m.\u001b[39msplit()])\n\u001b[1;32m      9\u001b[0m     raw \u001b[38;5;241m=\u001b[39m \u001b[38;5;28minput\u001b[39m()\n\u001b[1;32m     10\u001b[0m \u001b[38;5;28;01mreturn\u001b[39;00m matrix\n",
      "\u001b[0;31mValueError\u001b[0m: invalid literal for int() with base 10: 'µ1'"
     ]
    }
   ],
   "source": [
    "if __name__ == \"__main__\":\n",
    "    matrix = read_matrix()\n",
    "    print(\"Your matrix:\")\n",
    "    print(matrix)\n",
    "\n",
    "    scalar = 8\n",
    "\n",
    "    newmatrix = scalar_multiplication(matrix, scalar)\n",
    "    print(\"Scalar multiplication with 8:\")\n",
    "    print(newmatrix)\n",
    "\n",
    "    transMatrix = transpose(matrix)\n",
    "    print(\"Transposition:\")\n",
    "    print(transMatrix)"
   ]
  }
 ],
 "metadata": {
  "kernelspec": {
   "display_name": "Python 3",
   "language": "python",
   "name": "python3"
  },
  "language_info": {
   "codemirror_mode": {
    "name": "ipython",
    "version": 3
   },
   "file_extension": ".py",
   "mimetype": "text/x-python",
   "name": "python",
   "nbconvert_exporter": "python",
   "pygments_lexer": "ipython3",
   "version": "3.11.8"
  }
 },
 "nbformat": 4,
 "nbformat_minor": 2
}
