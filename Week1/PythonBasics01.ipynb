{
 "cells": [
  {
   "cell_type": "markdown",
   "metadata": {},
   "source": [
    "# Python basics: class 13/02\n"
   ]
  },
  {
   "cell_type": "code",
   "execution_count": 1,
   "metadata": {},
   "outputs": [
    {
     "name": "stdout",
     "output_type": "stream",
     "text": [
      "hello world\n"
     ]
    }
   ],
   "source": [
    "print(\"hello world\")"
   ]
  },
  {
   "cell_type": "markdown",
   "metadata": {},
   "source": [
    "## Inputs & outputs\n",
    "Conversion between types\n",
    "- int --> integer\n",
    "- float --> decimal number \n",
    "- str --> string text"
   ]
  },
  {
   "cell_type": "code",
   "execution_count": 2,
   "metadata": {},
   "outputs": [
    {
     "name": "stdout",
     "output_type": "stream",
     "text": [
      "12\n",
      "Value of x: 12\n",
      "<class 'str'>\n",
      "<class 'int'>\n",
      "12.0\n",
      "<class 'float'>\n",
      "<class 'float'>\n",
      "12.0\n",
      "<class 'float'>\n"
     ]
    }
   ],
   "source": [
    "# find the sign of x \n",
    "\n",
    "x = input(\"Give me a number!\")\n",
    "print(x)\n",
    "print(\"Value of x:\", x)\n",
    "print(type(x))\n",
    "\n",
    "# converting from one datatype to another\n",
    "int_number = int(x)\n",
    "print(type(int_number))\n",
    "\n",
    "\n",
    "dec_number = float(x)\n",
    "print(dec_number)\n",
    "print(type(dec_number))\n",
    "\n",
    "# converting from original or from converted variable \n",
    "testnumber = float(int_number)\n",
    "print((type(testnumber)))\n",
    "\n",
    "print(str(testnumber))\n",
    "print(type(testnumber))\n"
   ]
  },
  {
   "cell_type": "markdown",
   "metadata": {},
   "source": [
    "## Combining outputs --> concatenation \n",
    "\n",
    "- '+' --> combines 2 strings or 2 odd numbers"
   ]
  },
  {
   "cell_type": "code",
   "execution_count": null,
   "metadata": {},
   "outputs": [
    {
     "ename": "",
     "evalue": "",
     "output_type": "error",
     "traceback": [
      "\u001b[1;31mRunning cells with '/bin/python' requires the ipykernel package.\n",
      "\u001b[1;31mRun the following command to install 'ipykernel' into the Python environment. \n",
      "\u001b[1;31mCommand: '/bin/python -m pip install ipykernel -U --user --force-reinstall'"
     ]
    }
   ],
   "source": [
    "number = 5 \n",
    "\n",
    "print(\"the number is\",number)\n",
    "print(number + number)\n",
    "print(\"the nubmer is \" + str(number))\n",
    "print(str(number) + str(number))\n",
    "print(str(number + number))\n"
   ]
  },
  {
   "cell_type": "markdown",
   "metadata": {},
   "source": [
    "# Expressions\n",
    "## Arithmic operators\n"
   ]
  },
  {
   "cell_type": "code",
   "execution_count": null,
   "metadata": {},
   "outputs": [
    {
     "ename": "",
     "evalue": "",
     "output_type": "error",
     "traceback": [
      "\u001b[1;31mRunning cells with '/bin/python' requires the ipykernel package.\n",
      "\u001b[1;31mRun the following command to install 'ipykernel' into the Python environment. \n",
      "\u001b[1;31mCommand: '/bin/python -m pip install ipykernel -U --user --force-reinstall'"
     ]
    }
   ],
   "source": [
    "x = 15\n",
    "y = 8\n",
    "\n",
    "\n",
    "print(x,y)\n",
    "print(x + y)\n",
    "\n",
    "x,y =  10,3\n",
    "\n",
    "a,b = 10.3,7\n",
    "\n",
    "print(type(a))\n",
    "print(type(b))\n",
    "\n",
    "\n"
   ]
  },
  {
   "cell_type": "markdown",
   "metadata": {},
   "source": []
  },
  {
   "cell_type": "code",
   "execution_count": null,
   "metadata": {},
   "outputs": [
    {
     "ename": "",
     "evalue": "",
     "output_type": "error",
     "traceback": [
      "\u001b[1;31mRunning cells with '/bin/python' requires the ipykernel package.\n",
      "\u001b[1;31mRun the following command to install 'ipykernel' into the Python environment. \n",
      "\u001b[1;31mCommand: '/bin/python -m pip install ipykernel -U --user --force-reinstall'"
     ]
    }
   ],
   "source": [
    "text = \"some text\"\n",
    "\n",
    "print(text.capitalize())\n",
    "print(text.upper())\n",
    "print(text.lower())\n",
    "print(text.replace(\"e\",\"3\"))\n",
    "print(text.replace(\"t\",\"y\"))\n",
    "print(text.replace(\"some\",\"bird\")) # it had to be in correct order\n",
    "print(text.replace(\"s\",\"D\"))\n",
    "\n",
    "x = -5.1235421\n",
    "print(abs(x))\n",
    "print(round(x))\n"
   ]
  },
  {
   "cell_type": "code",
   "execution_count": null,
   "metadata": {},
   "outputs": [
    {
     "ename": "",
     "evalue": "",
     "output_type": "error",
     "traceback": [
      "\u001b[1;31mRunning cells with '/bin/python' requires the ipykernel package.\n",
      "\u001b[1;31mRun the following command to install 'ipykernel' into the Python environment. \n",
      "\u001b[1;31mCommand: '/bin/python -m pip install ipykernel -U --user --force-reinstall'"
     ]
    }
   ],
   "source": [
    "# find the sign of t enumber (+ - 0)\n",
    "\n",
    "\n",
    "x = int(input(\"Enter a number: \"))\n",
    "\n",
    "if x > 0:\n",
    "    print(x, \"is positive\")\n",
    "elif x < 0:\n",
    "    print(x, \"is negative\")\n",
    "else: \n",
    "    print(x, \"is zero\")\n",
    "\n",
    "# other implementation \n",
    " \n",
    "if x == 0:\n",
    "    print(x,\"is zero\")\n",
    "\n",
    "\n",
    "if x % 2 == 0: \n",
    "    print(x, \"is even\")\n",
    "else:\n",
    "    print(x,\"is odd\")\n"
   ]
  },
  {
   "cell_type": "code",
   "execution_count": null,
   "metadata": {},
   "outputs": [
    {
     "ename": "",
     "evalue": "",
     "output_type": "error",
     "traceback": [
      "\u001b[1;31mRunning cells with '/bin/python' requires the ipykernel package.\n",
      "\u001b[1;31mRun the following command to install 'ipykernel' into the Python environment. \n",
      "\u001b[1;31mCommand: '/bin/python -m pip install ipykernel -U --user --force-reinstall'"
     ]
    }
   ],
   "source": [
    "from datetime import datetime as DT \n",
    "\n",
    "birthyear = int(input(\"Give your year of birth\"))\n",
    "\n",
    "age = DT.now().year - birthyear\n",
    "\n",
    "print(age)\n",
    "\n",
    "if age >= 18: \n",
    "    print(\"you can vote\")\n",
    "else: \n",
    "    print(\"you can not vote\")\n"
   ]
  },
  {
   "cell_type": "markdown",
   "metadata": {},
   "source": [
    "build-in methods that you can use on strings"
   ]
  },
  {
   "cell_type": "code",
   "execution_count": null,
   "metadata": {},
   "outputs": [
    {
     "ename": "",
     "evalue": "",
     "output_type": "error",
     "traceback": [
      "\u001b[1;31mRunning cells with '/bin/python' requires the ipykernel package.\n",
      "\u001b[1;31mRun the following command to install 'ipykernel' into the Python environment. \n",
      "\u001b[1;31mCommand: '/bin/python -m pip install ipykernel -U --user --force-reinstall'"
     ]
    }
   ],
   "source": [
    "charcheck = input(\"give me a zin\")\n",
    "\n",
    "if len(charcheck) >= 8 and any(char.isdigit() for char in charcheck):\n",
    "    print(\"the passwd is goooodd\")  "
   ]
  },
  {
   "cell_type": "markdown",
   "metadata": {},
   "source": [
    "## Loops\n",
    "\n",
    "for and while"
   ]
  }
 ],
 "metadata": {
  "kernelspec": {
   "display_name": "Python 3",
   "language": "python",
   "name": "python3"
  },
  "language_info": {
   "codemirror_mode": {
    "name": "ipython",
    "version": 3
   },
   "file_extension": ".py",
   "mimetype": "text/x-python",
   "name": "python",
   "nbconvert_exporter": "python",
   "pygments_lexer": "ipython3",
   "version": "3.11.6"
  }
 },
 "nbformat": 4,
 "nbformat_minor": 2
}
