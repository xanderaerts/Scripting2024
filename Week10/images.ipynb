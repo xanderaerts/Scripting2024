{
 "cells": [
  {
   "cell_type": "markdown",
   "metadata": {},
   "source": [
    "# Week10 imgaes\n",
    "\n",
    "## recap assingment for downloding images\n",
    "\n",
    "--> https://api.chucknorris.io/ --> grap a quote\n",
    "--> download all images from https://en.wikipedia.org/wiki/Chuck_Norris"
   ]
  },
  {
   "cell_type": "code",
   "execution_count": null,
   "metadata": {},
   "outputs": [],
   "source": [
    "import requests\n",
    "from bs4 import BeautifulSoup\n",
    "\n",
    "url = \"https://api.chucknorris.io/jokes/random\"\n",
    "resp = requests.get(url)\n",
    "\n",
    "data = resp.json()[\"value\"]\n",
    "print(data)\n",
    "\n",
    "\n",
    "url =\"https://en.wikipedia.org/wiki/Chuck_Norris\"\n",
    "resp = requests.get(url)\n",
    "\n",
    "soup = BeautifulSoup(resp.text)\n",
    "img_tags = soup.find(\"img\")\n",
    "\n",
    "for img in img_tags:\n",
    "    if img[\"src\"].endswith(\".jpg\"):\n",
    "        parts = img[\"src\"].split(\"/\")\n",
    "\n",
    "        with open(\"ChuckNorris/\" + parts[-1],\"wb\") as imagefile:\n",
    "            response = requests.get(\"http:\" + img[\"src\"])\n",
    "\n",
    "            imagefile.write(response.content)\n",
    "            print(\"downloaded\",parts[-1])\n",
    "            "
   ]
  },
  {
   "cell_type": "markdown",
   "metadata": {},
   "source": [
    "# computer images"
   ]
  },
  {
   "cell_type": "code",
   "execution_count": null,
   "metadata": {},
   "outputs": [],
   "source": [
    "from PIL import ImageColor\n",
    "\n",
    "print(ImageColor.getcolor('blue',\"RGBA\"))\n",
    "print(ImageColor.getcolor('pink',\"RGBA\"))"
   ]
  },
  {
   "cell_type": "markdown",
   "metadata": {},
   "source": [
    "## EX \n",
    "\n",
    "move all colors from colours.txt to csv file with the coresponding value"
   ]
  },
  {
   "cell_type": "code",
   "execution_count": null,
   "metadata": {},
   "outputs": [],
   "source": [
    "from PIL import ImageColor\n",
    "\n",
    "csvfile = open(\"colour.csv\",\"w\")\n",
    "csvfile.write(\"Colours,R,G,B,A\")\n",
    "\n",
    "with open(\"colours.txt\",\"r\") as file:\n",
    "    for colour in file.readlines():\n",
    "        colourname = colour.strip()\n",
    "\n",
    "        rgba = ImageColor.getcolor(colourname,\"RGBA\")\n",
    "        \n",
    "        csvfile.write(colourname + \",\" + str(rgba[0]) + \",\" + str(rgba[1]) + \",\" + str(rgba[2]) + \",\" + str(rgba[3]) + \"\\n\")\n",
    "\n",
    "csvfile.close()\n",
    "                      \n"
   ]
  },
  {
   "cell_type": "markdown",
   "metadata": {},
   "source": [
    "## manipulation of images\n",
    "\n",
    "<img src=\"bird.jpg\">\n",
    "\n",
    "### Image properties"
   ]
  },
  {
   "cell_type": "code",
   "execution_count": null,
   "metadata": {},
   "outputs": [],
   "source": [
    "from PIL import Image\n",
    "img = Image.open(\"bird.jpg\")\n",
    "\n",
    "\n",
    "print(img)\n",
    "print(img.height,img.width)\n",
    "print(img.size)\n",
    "width,height = img.size\n",
    "\n",
    "\n",
    "\n",
    "print(img.format_description)\n",
    "img.save(\"bird.png\")\n",
    "pngimg = Image.open(\"bird.png\")\n",
    "pngimg.show()\n"
   ]
  },
  {
   "cell_type": "markdown",
   "metadata": {},
   "source": [
    "### cropping"
   ]
  },
  {
   "cell_type": "code",
   "execution_count": 28,
   "metadata": {},
   "outputs": [
    {
     "name": "stderr",
     "output_type": "stream",
     "text": [
      "libpng warning: iCCP: known incorrect sRGB profile\n"
     ]
    }
   ],
   "source": [
    "from PIL import Image\n",
    "\n",
    "img = Image.open(\"bird.jpg\")\n",
    "img = img.crop((260,150,400,370))\n",
    "img.save(\"cropped_bird.jpg\")\n",
    "img.show()"
   ]
  },
  {
   "cell_type": "markdown",
   "metadata": {},
   "source": [
    "### create image"
   ]
  },
  {
   "cell_type": "code",
   "execution_count": 24,
   "metadata": {},
   "outputs": [
    {
     "name": "stderr",
     "output_type": "stream",
     "text": [
      "libpng warning: iCCP: known incorrect sRGB profile\n",
      "libpng warning: iCCP: known incorrect sRGB profile\n",
      "libpng warning: iCCP: known incorrect sRGB profile\n"
     ]
    }
   ],
   "source": [
    "from PIL import Image\n",
    "\n",
    "img = Image.new('RGBA',(100,200),'rebeccapurple')\n",
    "img.save(\"rebeccapurple.png\")\n",
    "img.show()\n",
    "\n",
    "img = Image.new('RGBA',(20,20))\n",
    "img.save(\"transparent.png\")\n",
    "img.show()\n",
    "\n",
    "img = Image.new('RGBA',(200,200),(0,255,0,100))\n",
    "img.save(\"green.png\")\n",
    "img.show()"
   ]
  },
  {
   "cell_type": "markdown",
   "metadata": {},
   "source": [
    "# copy and paste images"
   ]
  },
  {
   "cell_type": "code",
   "execution_count": 27,
   "metadata": {},
   "outputs": [
    {
     "name": "stderr",
     "output_type": "stream",
     "text": [
      "libpng warning: iCCP: known incorrect sRGB profile\n",
      "libpng warning: iCCP: known incorrect sRGB profile\n"
     ]
    }
   ],
   "source": [
    "from PIL import Image\n",
    "img = Image.open(\"bird.jpg\")\n",
    "crop = img.crop((260,150,400,370))\n",
    "\n",
    "copyimg = img.copy()\n",
    "copyimg.paste(crop,(0,0))\n",
    "copyimg.paste(crop,(500,0))\n",
    "copyimg.paste(crop,(300,100))\n",
    "\n",
    "copyimg.save(\"bird2.jpg\")\n",
    "\n",
    "copyimg.show()\n",
    "\n"
   ]
  },
  {
   "cell_type": "code",
   "execution_count": 34,
   "metadata": {},
   "outputs": [
    {
     "name": "stderr",
     "output_type": "stream",
     "text": [
      "libpng warning: iCCP: known incorrect sRGB profile\n"
     ]
    }
   ],
   "source": [
    "from PIL import Image\n",
    "\n",
    "img = Image.new('RGBA',(400,200),\"lightblue\")\n",
    "cropped = Image.open(\"cropped_bird.jpg\")\n",
    "\n",
    "\n",
    "\n",
    "copy = cropped.copy()\n",
    "img.paste(crop,(0,0))\n",
    "img.save(\"aliceblue.gif\")\n",
    "\n",
    "img = Image.new(\"RGBA\",(cropped.width*10,cropped.height*10),\"white\")\n",
    "\n",
    "for i in range (0,10):\n",
    "    for j in range(0,10):\n",
    "        if (i + j) % 2 == 0:\n",
    "            img.paste(copy,(i * cropped.width, j * cropped.height))\n",
    "img.save(\"birdies.gif\")\n",
    "img.show()"
   ]
  },
  {
   "cell_type": "code",
   "execution_count": 36,
   "metadata": {},
   "outputs": [
    {
     "name": "stderr",
     "output_type": "stream",
     "text": [
      "libpng warning: iCCP: known incorrect sRGB profile\n",
      "libpng warning: iCCP: known incorrect sRGB profile\n",
      "libpng warning: iCCP: known incorrect sRGB profile\n",
      "libpng warning: iCCP: known incorrect sRGB profile\n",
      "libpng warning: iCCP: known incorrect sRGB profile\n"
     ]
    }
   ],
   "source": [
    "img = Image.open(\"bird.jpg\")\n",
    "img.rotate(90).show()\n",
    "img.rotate(180).show()\n",
    "img.rotate(-90).show()\n",
    "\n",
    "img.transpose(Image.FLIP_LEFT_RIGHT).show()\n",
    "img.transpose(Image.FLIP_TOP_BOTTOM).show()\n",
    "\n",
    "halfsize = img.resize(())\n"
   ]
  },
  {
   "cell_type": "markdown",
   "metadata": {},
   "source": [
    "### looping"
   ]
  },
  {
   "cell_type": "code",
   "execution_count": 37,
   "metadata": {},
   "outputs": [],
   "source": [
    "img = Image.open(\"cropped_bird.jpg\")\n",
    "\n",
    "for x in range(0,img.width):\n",
    "    for y in range(0,img.height):\n",
    "        r,g,b = img.getpixel((x,y))\n",
    "        inverted = (255-r,255-g,255-b)\n",
    "        img.putpixel((x,y),inverted)\n",
    "img.save(\"inverted.png\")"
   ]
  },
  {
   "cell_type": "code",
   "execution_count": null,
   "metadata": {},
   "outputs": [],
   "source": []
  }
 ],
 "metadata": {
  "kernelspec": {
   "display_name": ".venv",
   "language": "python",
   "name": "python3"
  },
  "language_info": {
   "codemirror_mode": {
    "name": "ipython",
    "version": 3
   },
   "file_extension": ".py",
   "mimetype": "text/x-python",
   "name": "python",
   "nbconvert_exporter": "python",
   "pygments_lexer": "ipython3",
   "version": "3.11.8"
  }
 },
 "nbformat": 4,
 "nbformat_minor": 2
}
