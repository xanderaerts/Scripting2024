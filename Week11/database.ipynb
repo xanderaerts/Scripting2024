{
 "cells": [
  {
   "cell_type": "markdown",
   "metadata": {},
   "source": [
    "# Database\n"
   ]
  },
  {
   "cell_type": "code",
   "execution_count": null,
   "metadata": {
    "metadata": {}
   },
   "outputs": [
    {
     "ename": "",
     "evalue": "",
     "output_type": "error",
     "traceback": [
      "\u001b[1;31mRunning cells with '.venv (Python 3.12.3)' requires the ipykernel package.\n",
      "\u001b[1;31mRun the following command to install 'ipykernel' into the Python environment. \n",
      "\u001b[1;31mCommand: '/home/xander/Documents/projects/Scripting2024/.venv/bin/python -m pip install ipykernel -U --force-reinstall'"
     ]
    }
   ],
   "source": [
    "import mysql.connector\n",
    "\n",
    "dbconnection = mysql.connector.connect(\n",
    "    host = \"localhost\",\n",
    "    user = \"root\",\n",
    "    password = \"admin\",\n",
    "    database=\"movies_db\"\n",
    "\n",
    ")\n",
    "\n",
    "cursor = dbconnection.cursor()\n",
    "\n",
    "print(dbconnection.database)\n",
    "\n",
    "cursor.close()\n",
    "dbconnection.close()"
   ]
  },
  {
   "cell_type": "markdown",
   "metadata": {},
   "source": [
    "## CREATE OPERATIONS"
   ]
  },
  {
   "cell_type": "code",
   "execution_count": null,
   "metadata": {},
   "outputs": [
    {
     "ename": "",
     "evalue": "",
     "output_type": "error",
     "traceback": [
      "\u001b[1;31mRunning cells with '.venv (Python 3.12.3)' requires the ipykernel package.\n",
      "\u001b[1;31mRun the following command to install 'ipykernel' into the Python environment. \n",
      "\u001b[1;31mCommand: '/home/xander/Documents/projects/Scripting2024/.venv/bin/python -m pip install ipykernel -U --force-reinstall'"
     ]
    }
   ],
   "source": [
    "import mysql.connector \n",
    "\n",
    "dbconnection = mysql.connector.connect(\n",
    "    host = \"localhost\",\n",
    "    user = \"root\",\n",
    "    password = \"admin\",\n",
    "    database=\"movies_db\"\n",
    "\n",
    ")\n",
    "\n",
    "cursor = dbconnection.cursor()\n",
    "\n",
    "query = \"INSERT INTO actors(name) VALUES('Kevin Hart')\"\n",
    "\n",
    "cursor.execute(query)\n",
    "dbconnection.commit()\n",
    "\n",
    "cursor.close()\n",
    "dbconnection.close()"
   ]
  },
  {
   "cell_type": "code",
   "execution_count": null,
   "metadata": {},
   "outputs": [
    {
     "ename": "",
     "evalue": "",
     "output_type": "error",
     "traceback": [
      "\u001b[1;31mRunning cells with '.venv (Python 3.12.3)' requires the ipykernel package.\n",
      "\u001b[1;31mRun the following command to install 'ipykernel' into the Python environment. \n",
      "\u001b[1;31mCommand: '/home/xander/Documents/projects/Scripting2024/.venv/bin/python -m pip install ipykernel -U --force-reinstall'"
     ]
    }
   ],
   "source": [
    "import mysql.connector \n",
    "\n",
    "dbconnection = mysql.connector.connect(\n",
    "    host = \"localhost\",\n",
    "    user = \"root\",\n",
    "    password = \"admin\",\n",
    "    database=\"movies_db\"\n",
    "\n",
    ")\n",
    "\n",
    "cursor = dbconnection.cursor()\n",
    "\n",
    "query = \"INSERT INTO actors(name) VALUES(%s)\"\n",
    "\n",
    "data = [[\"Leonardo dicarpatio\"],[\"Samuel\"],[\"al pacino\"],[\"jolie\"],[\"brad pit\"]]\n",
    "\n",
    "cursor.executemany(query,data)\n",
    "dbconnection.commit()\n",
    "\n",
    "cursor.close()\n",
    "dbconnection.close()"
   ]
  },
  {
   "cell_type": "code",
   "execution_count": null,
   "metadata": {},
   "outputs": [
    {
     "ename": "",
     "evalue": "",
     "output_type": "error",
     "traceback": [
      "\u001b[1;31mRunning cells with '.venv (Python 3.12.3)' requires the ipykernel package.\n",
      "\u001b[1;31mRun the following command to install 'ipykernel' into the Python environment. \n",
      "\u001b[1;31mCommand: '/home/xander/Documents/projects/Scripting2024/.venv/bin/python -m pip install ipykernel -U --force-reinstall'"
     ]
    }
   ],
   "source": [
    "import mysql.connector\n",
    "\n",
    "# establish connection\n",
    "db = mysql.connector.connect(\n",
    "  host=\"localhost\",\n",
    "  user=\"root\",\n",
    "  password=\"admin\",\n",
    "  database=\"movies_db\"\n",
    ")\n",
    "\n",
    "# prepare query\n",
    "query = \"INSERT INTO movies (title, synopsis) VALUES (%s, %s)\"\n",
    "\n",
    "# list of movies to insert\n",
    "movies = [\n",
    "  (\"Inception\", \"A thief is hired to plant an idea in the mind of a corporate executive.\"),\n",
    "  (\"Blade Runner\", \"A detective hunts down rogue replicants in a dystopian future.\"),\n",
    "  (\"Star Wars\", \"A farm boy joins a rebellion to overthrow an evil empire.\"),\n",
    "  (\"Jurassic Park\", \"Scientists create a theme park with cloned dinosaurs, which quickly goes awry.\")\n",
    "]\n",
    "\n",
    "# insert each movie\n",
    "cursor = db.cursor()\n",
    "for movie in movies:\n",
    "  cursor.execute(query, movie)\n",
    "\n",
    "# commit changes and close connection\n",
    "db.commit()\n",
    "db.close()"
   ]
  },
  {
   "cell_type": "code",
   "execution_count": null,
   "metadata": {},
   "outputs": [
    {
     "ename": "",
     "evalue": "",
     "output_type": "error",
     "traceback": [
      "\u001b[1;31mRunning cells with '.venv (Python 3.12.3)' requires the ipykernel package.\n",
      "\u001b[1;31mRun the following command to install 'ipykernel' into the Python environment. \n",
      "\u001b[1;31mCommand: '/home/xander/Documents/projects/Scripting2024/.venv/bin/python -m pip install ipykernel -U --force-reinstall'"
     ]
    }
   ],
   "source": [
    "import mysql.connector\n",
    "\n",
    "dbconnection = mysql.connector.connect(\n",
    "    host = \"localhost\",\n",
    "    user = \"root\",\n",
    "    password = \"admin\",\n",
    "    database=\"movies_db\"\n",
    ")\n",
    "\n",
    "cursor = dbconnection.cursor()\n",
    "\n",
    "query = \"\"\"SELECT movies.title, actors.name FROM movies\n",
    "           inner JOIN movie_actor ON movies.id = movie_actor.movie_id\n",
    "           inner JOIN actors ON movie_actor.actor_id = actors.id\n",
    "           \"\"\"\n",
    "\n",
    "\n",
    "cursor.execute(query)\n",
    "data = cursor.fetchall()\n",
    "\n",
    "\n",
    "for row in data:\n",
    "    print(row)"
   ]
  },
  {
   "cell_type": "markdown",
   "metadata": {},
   "source": [
    "### check slides for querrying with sql"
   ]
  },
  {
   "cell_type": "code",
   "execution_count": null,
   "metadata": {},
   "outputs": [
    {
     "ename": "",
     "evalue": "",
     "output_type": "error",
     "traceback": [
      "\u001b[1;31mRunning cells with '.venv (Python 3.12.3)' requires the ipykernel package.\n",
      "\u001b[1;31mRun the following command to install 'ipykernel' into the Python environment. \n",
      "\u001b[1;31mCommand: '/home/xander/Documents/projects/Scripting2024/.venv/bin/python -m pip install ipykernel -U --force-reinstall'"
     ]
    }
   ],
   "source": [
    "import mysql.connector\n",
    "\n",
    "dbconnection = mysql.connector.connect(\n",
    "    host = \"localhost\",\n",
    "    user = \"root\",\n",
    "    password = \"admin\",\n",
    "    database=\"movies_db\"\n",
    ")\n",
    "\n",
    "cursor = dbconnection.cursor()\n",
    "\n",
    "#query = \"INSERT INTO movies(title) VALUES('Jumanji')\"\n",
    "\n",
    "#cursor.execute(query)\n",
    "#dbconnection.commit()\n",
    "\n",
    "query = \"UPDATE movies SET synopsis = 'board games' where title like 'Jumanji'\"\n",
    "\n",
    "cursor.execute(query)\n",
    "\n",
    "dbconnection.commit()\n",
    "\n",
    "cursor.close()\n",
    "dbconnection.close()"
   ]
  },
  {
   "cell_type": "markdown",
   "metadata": {},
   "source": [
    "## Scrape to DB exersice \n",
    "\n",
    "https://en.wikipedia.org/wiki/List_of_Academy_Award-winning_films\n",
    "\n",
    "put all movies in a db"
   ]
  },
  {
   "cell_type": "code",
   "execution_count": null,
   "metadata": {},
   "outputs": [
    {
     "ename": "",
     "evalue": "",
     "output_type": "error",
     "traceback": [
      "\u001b[1;31mRunning cells with '.venv (Python 3.12.3)' requires the ipykernel package.\n",
      "\u001b[1;31mRun the following command to install 'ipykernel' into the Python environment. \n",
      "\u001b[1;31mCommand: '/home/xander/Documents/projects/Scripting2024/.venv/bin/python -m pip install ipykernel -U --force-reinstall'"
     ]
    }
   ],
   "source": [
    "import requests\n",
    "from bs4 import BeautifulSoup\n",
    "\n",
    "url =\"https://en.wikipedia.org/wiki/List_of_Academy_Award-winning_films\"\n",
    "\n",
    "resp = requests.get(url)\n",
    "soup = BeautifulSoup(resp.text)\n",
    "\n",
    "#open db\n",
    "\n",
    "import mysql.connector\n",
    "\n",
    "dbconnection = mysql.connector.connect(\n",
    "    host = \"localhost\",\n",
    "    user = \"root\",\n",
    "    password = \"admin\",\n",
    "    database=\"movies_db\"\n",
    ")\n",
    "cursor = dbconnection.cursor()\n",
    "\n",
    "table = soup.find(\"table\")\n",
    "rows = table.find_all(\"tr\")\n",
    "\n",
    "for row in rows:\n",
    "    td = row.find_all(\"td\")\n",
    "\n",
    "    if len(td) > 0:\n",
    "        title = td[0].get_text().strip().replace(\"'\",\"\")\n",
    "        year = td[1].get_text().strip().replace(\"'\",\"\")\n",
    "        awards = td[2].get_text().strip().replace(\"'\",\"\")\n",
    "        nom = td[3].get_text().strip().replace(\"'\",\"\")\n",
    "\n",
    "\n",
    "        #check if the movie is already in the db\n",
    "\n",
    "        query = \"SELECT * from movies where title like '\" + title + \"'\"\n",
    "\n",
    "       # print(query)\n",
    "        cursor.execute(query)\n",
    "        data = cursor.fetchall()\n",
    "\n",
    "        if len(data) == 0:\n",
    "            query = \"INSERT into movies(title) VALUES('\" + title + \"')\"\n",
    "            cursor.execute(query)\n",
    "            dbconnection.commit()\n",
    "            movie_id = cursor.lastrowid\n",
    "\n",
    "            query = \"Insert into awards(movie_id,awardshow_id,year,awards,nominations) values(%s,%s,%s,%s,%s)\"\n",
    "\n",
    "            values = (movie_id,1,year,awards,nom)\n",
    "\n",
    "            cursor.execute(query,values)\n",
    "            dbconnection.commit()\n",
    "\n",
    "\n",
    "cursor.close()\n",
    "dbconnection.close()"
   ]
  }
 ],
 "metadata": {
  "kernelspec": {
   "display_name": ".venv",
   "language": "python",
   "name": "python3"
  },
  "language_info": {
   "codemirror_mode": {
    "name": "ipython",
    "version": 3
   },
   "file_extension": ".py",
   "mimetype": "text/x-python",
   "name": "python",
   "nbconvert_exporter": "python",
   "pygments_lexer": "ipython3",
   "version": "3.12.3"
  }
 },
 "nbformat": 4,
 "nbformat_minor": 2
}
