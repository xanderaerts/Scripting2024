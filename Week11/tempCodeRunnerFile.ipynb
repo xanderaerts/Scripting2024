dbconnection = mysql.connector.connect(
    host = "localhost",
    user = "root",
    password = "admin",
    database="movies_db"

)