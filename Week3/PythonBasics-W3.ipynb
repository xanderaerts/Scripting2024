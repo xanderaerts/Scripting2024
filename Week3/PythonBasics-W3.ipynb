{
 "cells": [
  {
   "cell_type": "markdown",
   "metadata": {},
   "source": [
    "# Exersices about last week \n",
    "\n",
    "lists - dicts - tuples \n"
   ]
  },
  {
   "cell_type": "markdown",
   "metadata": {},
   "source": [
    "# EX 1 \n",
    "\n",
    "import 2 lists from user, print out one list where all common elements are in  "
   ]
  },
  {
   "cell_type": "code",
   "execution_count": 1,
   "metadata": {},
   "outputs": [
    {
     "name": "stdout",
     "output_type": "stream",
     "text": [
      "[]\n"
     ]
    }
   ],
   "source": [
    "list1 = input(\"Give a list\").split()\n",
    "list1 = [int(i) for i in list1]\n",
    "\n",
    "list2 = input(\"Give another list\").split()\n",
    "list2 = [int(i) for i in list2]\n",
    "\n",
    "def findCommon(l1,l2):\n",
    "    list3 = []\n",
    "\n",
    "    for i in list1:\n",
    "        if i in list2:\n",
    "            list3.append(i)\n",
    "\n",
    "    return str(list3)\n",
    "\n",
    "print(findCommon(list1,list2))"
   ]
  },
  {
   "cell_type": "code",
   "execution_count": 2,
   "metadata": {},
   "outputs": [
    {
     "name": "stdout",
     "output_type": "stream",
     "text": [
      "44\n"
     ]
    }
   ],
   "source": [
    "def Sum(Tup):\n",
    "    Tup = Tup.split()\n",
    "    Tup = tuple(Tup)\n",
    "    totalSum = sum(int(T) for T in Tup if int(T) % 2 == 0)\n",
    "    return totalSum\n",
    "\n",
    "Tup = input()\n",
    "print(Sum(Tup))"
   ]
  },
  {
   "cell_type": "code",
   "execution_count": 3,
   "metadata": {},
   "outputs": [
    {
     "name": "stdout",
     "output_type": "stream",
     "text": [
      "[4]\n"
     ]
    }
   ],
   "source": [
    "def Squared(L):\n",
    "    newList = []\n",
    "\n",
    "    return newList\n",
    "\n",
    "L = input().split()\n",
    "L = [int(i) for i in L]\n",
    "print(L)"
   ]
  },
  {
   "cell_type": "code",
   "execution_count": 4,
   "metadata": {},
   "outputs": [
    {
     "name": "stdout",
     "output_type": "stream",
     "text": [
      "[6 8 2 9 3 1 4 7 0 5]\n"
     ]
    }
   ],
   "source": [
    "import numpy as np \n",
    "\n",
    "list = [1,5,8,10,3]\n",
    "\n",
    "#print(list)\n",
    "\n",
    "array = np.array(list)\n",
    "#print(array)\n",
    "\n",
    "#print(np.arange(10))\n",
    "\n",
    "#print(np.full(10,5))\n",
    "#print(np.random.randint(-5,6,10))\n",
    "\n",
    "\n",
    "array = np.random.randint(-5,6,10)\n",
    "#print(array)\n",
    "\n",
    "#print(array.shape)\n",
    "#print(array.ndim)\n",
    "\n",
    "#print(\"array is of type\",array)\n",
    "\n",
    "array_float = array.astype('f')\n",
    "\n",
    "#print(array_float)\n",
    "\n",
    "array_string = array.astype(str)\n",
    "#print(array_string)\n",
    "\n",
    "#2D arrays \n",
    "\n",
    "array_2D = np.reshape(array,(2,5))\n",
    "#print(array_2D)\n",
    "\n",
    "array = np.array([6,8,2,9,3,1,4,7,0,5])\n",
    "print(array)\n",
    "\n",
    "s = input()\n",
    "array1D = np.array(s.split())\n",
    "\n"
   ]
  },
  {
   "cell_type": "markdown",
   "metadata": {},
   "source": [
    "### Exersise: It's magic time \n",
    "\n",
    "Read in a 1D array and a number of rows! Convert the array to 2D! Calculate the sum of each column and if all sums are equal your are dealing with a magic table\n",
    "\n",
    "<b>input</b><br>\n",
    "2 7 0 8 4 1 1 0 10 <br>\n",
    "<b> output <b> <br>\n",
    "True"
   ]
  },
  {
   "cell_type": "code",
   "execution_count": 7,
   "metadata": {},
   "outputs": [
    {
     "name": "stdout",
     "output_type": "stream",
     "text": [
      "[1 2 3]\n"
     ]
    }
   ],
   "source": [
    "import numpy as np\n",
    "\n",
    "\n",
    "s = input()\n",
    "\n",
    "\n",
    "array1D = np.array(s.split())\n",
    "array1D = array1D.astype('i')\n",
    "\n",
    "row = int(input())\n",
    "\n",
    "print(array1D)\n"
   ]
  }
 ],
 "metadata": {
  "kernelspec": {
   "display_name": "Python 3",
   "language": "python",
   "name": "python3"
  },
  "language_info": {
   "codemirror_mode": {
    "name": "ipython",
    "version": 3
   },
   "file_extension": ".py",
   "mimetype": "text/x-python",
   "name": "python",
   "nbconvert_exporter": "python",
   "pygments_lexer": "ipython3",
   "version": "3.11.7"
  }
 },
 "nbformat": 4,
 "nbformat_minor": 2
}
