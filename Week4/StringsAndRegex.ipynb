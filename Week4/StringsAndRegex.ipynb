{
 "cells": [
  {
   "cell_type": "code",
   "execution_count": null,
   "metadata": {},
   "outputs": [],
   "source": [
    "c = \"This is a string \"\n",
    "print(c)\n",
    "\n",
    "\n",
    "\n",
    "string = \"This is Alice's cat.\"\n",
    "print(string[1:4])\n",
    "print(string[:4])           \n",
    "print(string[4:])\n",
    "print(string[::-1])  #reverse          \n",
    "print(string[1::2])\n",
    "print(\"cat\" in string)\n",
    "print(\"Cat\" not in string)\n"
   ]
  },
  {
   "cell_type": "code",
   "execution_count": null,
   "metadata": {},
   "outputs": [],
   "source": [
    "c = \"a\"\n",
    "\n",
    "print(ord(c))\n",
    "print(chr(98))\n",
    "\n",
    "print(ord(\"A\"))\n",
    "print(ord(\" \"))\n"
   ]
  },
  {
   "cell_type": "markdown",
   "metadata": {},
   "source": [
    "## Exercise: Pig Latin \n",
    "- word starts with constant --> add constatnd to back + \"ay\" --> happy = appyh + ay = appyhay\n",
    "- word starts with 2 constants --> add both to end + \"ay\" --> child = ildch + ay = ildchay \n",
    "- word starts with a vowel --> awsesome + way = awesomeway"
   ]
  },
  {
   "cell_type": "code",
   "execution_count": null,
   "metadata": {},
   "outputs": [],
   "source": [
    "def Piglatin(word):\n",
    "    vowels = \"aeiouy\" # y is special one\n",
    "\n",
    "    word = word.lower()\n",
    "\n",
    "    if word[0] not in vowels:\n",
    "        if word[1] not in vowels: \n",
    "            return word[2::] + word[:2:] + \"ay\"\n",
    "        else:\n",
    "            return word[1::] + word[0] + \"ay\"\n",
    "    else:\n",
    "        return word + \"way\"\n",
    "    \n",
    "\n",
    "word = input()\n",
    "for subword in word.split():\n",
    "    print(subword,\"-->\",Piglatin(subword))\n",
    "\n"
   ]
  },
  {
   "cell_type": "markdown",
   "metadata": {},
   "source": [
    "# Regular expressions \n",
    "re-module \n",
    "\n",
    "lipsum.com\n",
    "\n",
    "\n",
    "- [] --> collection\n",
    "- [... - ...] -> range A-Z, A-z, 1-9\n",
    "- + sign: 1 or more\n",
    "- * sign: 0 or more\n",
    "- {} specific amount\n",
    "- /w word-character: a-z,A-Z,0-9,_\n",
    "- /d digit --> 1961, 1 9 6 1\n",
    "- \\b boundaries of regex --> usually hole word\n"
   ]
  },
  {
   "cell_type": "code",
   "execution_count": 9,
   "metadata": {},
   "outputs": [
    {
     "name": "stdout",
     "output_type": "stream",
     "text": [
      "['Lorem', 'Sed', 'Vivamus', 'Morbi', 'Ut', 'Aenean', 'Orci', 'Donec', 'Fusce', 'Fusce']\n",
      "['amet', '3456', 'elit', '1234', 'quam', 'eget', 'eget', 'nisi', '6789', 'Orci', '3234', 'arcu', 'quis', '5456', 'eros', '2002']\n",
      "amet\n",
      "(22, 26)\n",
      "['amet', '3456', 'elit', '1234', 'quam', 'eget', 'eget', 'nisi', '6789', 'Orci', '3234', 'arcu', 'quis', '5456', 'eros', '2002']\n",
      "None\n",
      "<re.Match object; span=(0, 4), match='text'>\n",
      "None\n",
      "['Lorem ipsum dolor sit ', ', ', ' consectetur adipiscing ', '. Sed volutpat leo commodo maximus mollis. \\n    Vivamus consectetur euismod pellentesque. ', ' Morbi pharetra ', ' ', ' dolor commodo,', ' finibus massa euismod. \\n    Ut est ', ', semper ac molestie ut, tincidunt vitae risus. \\n    Aenean auctor scelerisque ', ' egestas. ', ' varius natoque penatibus et magnis ', ' dis parturient montes,nascetur ridiculus mus. \\n    Donec venenatis bibendum ', ' ', ' lacinia. Fusce condimentum ', ' volutpat ', ',\\n    non fringilla ipsum ultrices vitae. Fusce et metus imperdiet nulla ', ' faucibus posuere eu ut lorem. ']\n"
     ]
    }
   ],
   "source": [
    "import re\n",
    "\n",
    "text = \"\"\"Lorem ipsum dolor sit amet, 3456 consectetur adipiscing elit. Sed volutpat leo commodo maximus mollis. \n",
    "    Vivamus consectetur euismod pellentesque. 1234 Morbi pharetra quam eget dolor commodo,eget finibus massa euismod. \n",
    "    Ut est nisi, semper ac molestie ut, tincidunt vitae risus. \n",
    "    Aenean auctor scelerisque 6789 egestas. Orci varius natoque penatibus et magnis 3234 dis parturient montes,nascetur ridiculus mus. \n",
    "    Donec venenatis bibendum arcu quis lacinia. Fusce condimentum 5456 volutpat eros,\n",
    "    non fringilla ipsum ultrices vitae. Fusce et metus imperdiet nulla 2002 faucibus posuere eu ut lorem. \"\"\"\n",
    "\n",
    "regex = r\"[A-Z]\\w+\"\n",
    "list = re.findall(regex,text)\n",
    "print(list)\n",
    "\n",
    "regex = r\"\\b\\w{4}\\b\"\n",
    "\n",
    "list = re.findall(regex,text)\n",
    "print(list)\n",
    "\n",
    "result = re.search(regex,text) # first occurence of regex and info\n",
    "print(result.group()) # show match\n",
    "print(result.span()) #indexex of the first match\n",
    "\n",
    "regex_object = re.compile(regex)\n",
    "print(regex_object.findall(text))\n",
    "print(regex_object.match(text))\n",
    "print(regex_object.match(\"text\"))\n",
    "print(regex_object.match(\"!P^-\"))\n",
    "\n",
    "print(regex_object.split(text)) #splits text on every word that exist out of 4 letter \n"
   ]
  },
  {
   "cell_type": "markdown",
   "metadata": {},
   "source": [
    "# EX\n",
    "\n",
    "\n",
    "\n",
    "Try to find:\n",
    "- all numbers (not individual digits)\n",
    "- all numbers starting a string\n",
    "- all numbers ending a string\n",
    "- all numbers surrounded by alphabetical characters\n",
    "- all strings containing only alphabetical characters\n",
    "- all strings containing only digits\n",
    "- all strings containing only vowels\n",
    "- all strings containing only consonants\n",
    "- all strings consisting only of the letters of lorem: lorem, moerl, merol\n",
    "- all strings consisting only of the letters of input()\n",
    "\n"
   ]
  },
  {
   "cell_type": "code",
   "execution_count": null,
   "metadata": {},
   "outputs": [
    {
     "name": "stdout",
     "output_type": "stream",
     "text": [
      "['3456', '1234', '6789', '3234', '5456', '2002']\n",
      "['2', '5', '2']\n",
      "['5', '4']\n",
      "['11', '2', '2', '3', '4', '3', '3']\n",
      "['Lorem', 'ipsum', 'sit', 'amet', 'consectetur', 'elit', 'Sed', 'volutpat', 'leo', 'commodo', 'maximus', 'mollis', 'Vivamus', 'consectetur', 'pellentesque', 'Morbi', 'quam', 'loremus', 'au', 'dolor', 'commodo', 'eget', 'finibus', 'massa', 'euismod', 'Ut', 'est', 'nisi', 'semper', 'ac', 'molestie', 'ut', 'tincidunt', 'vitae', 'risus', 'rty', 'a', 'Aenean', 'auctor', 'scelerisque', 'Orci', 'et', 'merol', 'dis', 'a', 'parturient', 'montes', 'nascetur', 'ridiculus', 'mus', 'Donec', 'venenatis', 'bibendum', 'arcu', 'quis', 'xcvbn', 'lacinia', 'Fusce', 'condimentum', 'volutpat', 'eros', 'moerl', 'zzz', 'non', 'fringilla', 'ipsum', 'ultrices', 'vitae', 'Fusce', 'et', 'metus', 'faucibus', 'posuere', 'eu', 'ut', 'oei', 'lorem']\n",
      "['3456', '1234', '6789', '3234', '5456', '2002']\n",
      "['au', 'a', 'a', 'eu', 'oei']\n",
      "['rty', 'xcvbn', 'zzz']\n",
      "['Lorem', 'merol', 'moerl', 'lorem']\n"
     ]
    },
    {
     "name": "stdout",
     "output_type": "stream",
     "text": [
      "['semper']\n",
      "['semper']\n"
     ]
    }
   ],
   "source": [
    "import re\n",
    "\n",
    "text = \"\"\"Lorem ipsum dol11or sit amet, 3456 consectetur adipi2scing elit. Sed volutpat leo commodo maximus mollis. \n",
    "    Vivamus consectetur eui2smod pellentesque. 1234 Morbi ph3aretra quam 2eget loremus au dolor commodo,eget finibus massa euismod. \n",
    "    Ut est nisi, semper ac molestie ut, tincidunt vitae risus rty. a\n",
    "    Aenean auctor scelerisque 6789 egestas5. Orci variu4s n3atoque 55penatibus et merol 2magnis 3234 dis a parturient montes,nascetur ridiculus mus. \n",
    "    Donec venenatis bibendum arcu quis xcvbn lacinia. Fusce condimentum 5456 volutpat eros, moerl zzz\n",
    "    non fringilla ipsum ultrices vitae. Fusce et metus impe3rdiet nulla4 2002 faucibus posuere eu ut oei lorem. \"\"\"\n",
    "\n",
    "regex = r\"\\b\\d+\\b\"\n",
    "# regex = r\"\\b[0-9]\\b\"\n",
    "list = re.findall(regex,text)\n",
    "print(list)\n",
    "\n",
    "regex = r\"\\b(\\d)+[A-z]+\"\n",
    "list = re.findall(regex,text)\n",
    "print(list)\n",
    "\n",
    "\n",
    "regex = r\"[A-z]+(\\d)+\\b\"\n",
    "list = re.findall(regex,text)\n",
    "print(list)\n",
    "\n",
    "\n",
    "regex = r\"\\b[A-z]+(\\d+)+[A-z]+\\b\"\n",
    "list = re.findall(regex,text)\n",
    "print(list)\n",
    "\n",
    "regex = r\"\\b[A-z]+\\b\"\n",
    "list = re.findall(regex,text)\n",
    "print(list)\n",
    "\n",
    "regex = r\"\\b\\d+\\b\"\n",
    "list = re.findall(regex,text)\n",
    "print(list)\n",
    "\n",
    "regex = r\"\\b[aeiouAEIOU]+\\b\"\n",
    "list = re.findall(regex,text)\n",
    "print(list)\n",
    "\n",
    "regex = r\"\\b[^aeiouAEIOU\\d\\s\\W_]+\\b\"\n",
    "list = re.findall(regex,text)\n",
    "print(list)\n",
    "\n",
    "regex = r\"\\b[loremLOREM]{5}\\b\"\n",
    "list = re.findall(regex,text)\n",
    "print(list)\n",
    "\n",
    "\n",
    "letters = input()\n",
    "regex = r\"\\b[\" + letters + r\"]{\"+ str(len(letters)) + r\"}\\b\"\n",
    "\n",
    "regex2 = rf\"\\b[{letters}]\" + r\"{\" +str(len(letters)) + r\"}\\b\"\n",
    "\n",
    "list = re.findall(regex,text)\n",
    "list2 = re.findall(regex2,text)\n",
    "print(list)\n",
    "print(list2)"
   ]
  }
 ],
 "metadata": {
  "kernelspec": {
   "display_name": ".venv",
   "language": "python",
   "name": "python3"
  },
  "language_info": {
   "codemirror_mode": {
    "name": "ipython",
    "version": 3
   },
   "file_extension": ".py",
   "mimetype": "text/x-python",
   "name": "python",
   "nbconvert_exporter": "python",
   "pygments_lexer": "ipython3",
   "version": "3.11.7"
  }
 },
 "nbformat": 4,
 "nbformat_minor": 2
}
