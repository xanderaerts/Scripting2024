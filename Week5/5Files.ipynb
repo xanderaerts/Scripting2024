{
 "cells": [
  {
   "cell_type": "markdown",
   "metadata": {},
   "source": [
    "# Week 5 - Files (revision regex see W4)\n",
    "\n",
    "### What're we doing today: \n",
    "- files and folders\n",
    "- creating files\n",
    "- reading and writing from and to files\n",
    "- (de)compressing\n",
    "- reading csv-file\n",
    "\n",
    "\n",
    "Write a python function called validate_email --> takes email as input and retrun a boolean that indicates whether or not it's valid\n",
    "- email address must contain \"@\"\n",
    "- part before \"@\" --> at least 1 char and only letters,numbers,dots,hyphens and uderscores (a,9,.,-,_)\n",
    "- part after \"@\" --> at least 2 chars and only letters,dots,hypens (a,.,-)\n",
    "- cannot end with a dot"
   ]
  },
  {
   "cell_type": "code",
   "execution_count": null,
   "metadata": {},
   "outputs": [],
   "source": [
    "import re\n",
    "\n",
    "def validate_email(email):\n",
    "    if \"@\" not in email:\n",
    "        return False\n",
    "    \n",
    "    parts = email.split(\"@\")\n",
    "    if len(parts) != 2:\n",
    "        return False\n",
    "    \n",
    "\n",
    "    regex = r\"^[a-zA-Z0-9\\.\\-]+$\"\n",
    "\n",
    "    if re.match(regex,parts[0]) is None:\n",
    "        return False\n",
    "    \n",
    "    regex = r\"[a-zA-Z\\.\\-]{2,}\"\n",
    "\n",
    "    if re.match(regex,parts[1]) is None:\n",
    "        return False\n",
    "    \n",
    "    if email[-1] == \".\":\n",
    "        return False\n",
    "    \n",
    "    return True"
   ]
  },
  {
   "cell_type": "markdown",
   "metadata": {},
   "source": [
    "# Files and folders: os and pathlib"
   ]
  },
  {
   "cell_type": "code",
   "execution_count": null,
   "metadata": {},
   "outputs": [],
   "source": [
    "import os\n",
    "import pathlib\n",
    "\n",
    "\n",
    "print(os.getcwd()) # returns string of current working dir\n",
    "print(type(os.getcwd()))\n",
    "\n",
    "print(pathlib.Path.cwd()) # returns an object of current working dir\n",
    "print(type(pathlib.Path.cwd()))\n",
    "\n",
    "print()\n",
    "\n",
    "#calc = pathlib.Path(\"C:/Windows/Systhem32/calc.exe\")\n",
    "calc = pathlib.Path(\"/usr/share/applications/org.kde.kcalc.desktop\")\n",
    "# calculator on pc \n",
    "print(\"Filename\",calc.name) #final path componenet\n",
    "print(\"Name:\",calc.stem) #final path componenent - last suffix\n",
    "print(\"Extention:\",calc.suffix) #final comp extention\n",
    "print(\"Parent direction\")\n",
    "\n",
    "print(str(pathlib.Path.home()) + \"\\\\\" + \"test\") # windows\n",
    "print(str(pathlib.Path.home()) + \"/\" + \"test\") # linux and mac\n",
    "\n",
    "\n",
    "path_to_email_txt = os.getcwd() + \"\\e_mail.txt\"\n",
    "print(path_to_email_txt)"
   ]
  },
  {
   "cell_type": "markdown",
   "metadata": {},
   "source": [
    "### Walk in our dir"
   ]
  },
  {
   "cell_type": "code",
   "execution_count": null,
   "metadata": {},
   "outputs": [],
   "source": [
    "import os\n",
    "from pathlib import Path\n",
    "\n",
    "path_ = r\"/home/xander/Documents/projects/Scripting2024/Week5\"\n",
    "#os.chdir(Path.home()) --> other way of chaning dir\n",
    "\n",
    "for folderName, subfolders,filesnames in os.walk(path_):\n",
    "    print(\"The current folder is\" + folderName)\n",
    "\n",
    "    for subfolder in subfolders:\n",
    "        print(\"SUBFOLDER OF \" + folderName + \":\" + subfolder)\n",
    "    \n",
    "    for fileName in filesnames:\n",
    "        print(\"FILE INSIDE: \" + folderName + \":\" + fileName)\n",
    "    \n",
    "    print(\"------\")"
   ]
  },
  {
   "cell_type": "code",
   "execution_count": null,
   "metadata": {},
   "outputs": [],
   "source": [
    "# print and search for any file in a certain path \n",
    "\n",
    "from pathlib import Path\n",
    "\n",
    "path_string = r\"/home/xander/Documents/projects/Scripting2024/Week5\"\n",
    "path_object = Path(path_string)\n",
    "\n",
    "for file in path_object.glob(\"*.txt\"):\n",
    "    print(file)\n",
    "\n",
    "for file in path_object.glob(\"*[0-9]*\"):\n",
    "    print(file)"
   ]
  },
  {
   "cell_type": "markdown",
   "metadata": {},
   "source": [
    "# Writing to a file"
   ]
  },
  {
   "cell_type": "code",
   "execution_count": null,
   "metadata": {},
   "outputs": [],
   "source": [
    "import os \n",
    "print(os.getcwd())\n",
    "\n",
    "#creating and writing --> if a file doesn't exist create and write\n",
    "\n",
    "file = open(\"text.txt\",\"w\") #indicates writing \n",
    "file.write(\"test\")\n",
    "file.close()\n",
    "\n",
    "\n",
    "file= open(\"text.txt\",\"a\") #indicates append\n",
    "file.write(\"\\n\\nanother test\")\n",
    "file.close()\n",
    "\n",
    "\n",
    "print()\n",
    "\n",
    "file = open(\"text.txt\",\"r\")\n",
    "print(file.read())\n",
    "file.close()\n",
    "\n",
    "print()\n",
    "\n",
    "with open(\"text.txt\",\"r\") as file:\n",
    "    print(file.read())\n",
    "\n",
    "# encoding problems?\n",
    "    \n",
    "file = open(\"test.txt\",\"r\",encoding=\"utf-7\")\n",
    "file.close()\n",
    "\n",
    "#8 bits: US-ASCII\n"
   ]
  },
  {
   "cell_type": "markdown",
   "metadata": {},
   "source": [
    "### Reading email from a file\n",
    "chack emails with the validate_email() function"
   ]
  },
  {
   "cell_type": "code",
   "execution_count": null,
   "metadata": {},
   "outputs": [],
   "source": [
    "with open(\"e-mail.txt\",\"r\") as file:\n",
    "    for line in file.readlines():\n",
    "        parts = line.split(\";\")\n",
    "        print(parts[0],validate_email(parts[0]), \"-->\", parts[1])"
   ]
  },
  {
   "cell_type": "markdown",
   "metadata": {},
   "source": [
    "### Organizing files\n",
    "\n",
    "create files remove etc\n",
    "\n",
    "if you want to delete --> use Send2Trash hhtps://pypi.org/project/Send2Transh"
   ]
  },
  {
   "cell_type": "code",
   "execution_count": null,
   "metadata": {},
   "outputs": [],
   "source": [
    "! pip install Send2Trash"
   ]
  },
  {
   "cell_type": "code",
   "execution_count": null,
   "metadata": {},
   "outputs": [],
   "source": [
    "import shutil, os # shutil used to move and copy\n",
    "\n",
    "os.mkdir(\"folder2\")\n",
    "shutil.copy(\"text.txt\",\"folder2\")\n",
    "shutil.move(\"folder2/text.txt\",\"folder2/bacon.txt\") # old name to new name"
   ]
  },
  {
   "cell_type": "code",
   "execution_count": null,
   "metadata": {},
   "outputs": [],
   "source": [
    "import send2trash\n",
    "\n",
    "file = open(\"testfile.txt\",\"w\")\n",
    "file.close()\n",
    "\n",
    "send2trash.send2trash(\"testfile.txt\") # removes the file"
   ]
  },
  {
   "cell_type": "markdown",
   "metadata": {},
   "source": [
    "### work with zip files\n",
    "compress files into a zip file, and extract files from a zip-file\n",
    "\n",
    "note: MASSIVE FILES --> wetransfer "
   ]
  },
  {
   "cell_type": "code",
   "execution_count": null,
   "metadata": {},
   "outputs": [],
   "source": [
    "import zipfile, os\n",
    "from pathlib import Path\n",
    "\n",
    "file = zipfile.ZipFile(\"zipfile\",\"w\")\n",
    "\n",
    "file.write(\"e-mail.txt\")\n",
    "file.write(\"countries.csv\")\n",
    "file.write(\"text.txt\")\n",
    "file.close()\n",
    "\n",
    "file = zipfile.ZipFile(\"zipfile.zip\",\"r\")\n",
    "file.extractall()\n",
    "file.close()"
   ]
  },
  {
   "cell_type": "markdown",
   "metadata": {},
   "source": [
    "# EX \n",
    "\n",
    "work with csv --> ex countries\n",
    "read countries.csv and \n",
    "- extract info for specific country --> print info\n",
    "- find country with largest area --> print name and area\n",
    "- find all countries in specific area ²"
   ]
  }
 ],
 "metadata": {
  "kernelspec": {
   "display_name": ".venv",
   "language": "python",
   "name": "python3"
  },
  "language_info": {
   "codemirror_mode": {
    "name": "ipython",
    "version": 3
   },
   "file_extension": ".py",
   "mimetype": "text/x-python",
   "name": "python",
   "nbconvert_exporter": "python",
   "pygments_lexer": "ipython3",
   "version": "3.11.7"
  }
 },
 "nbformat": 4,
 "nbformat_minor": 2
}
