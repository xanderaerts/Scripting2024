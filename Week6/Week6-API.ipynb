{
 "cells": [
  {
   "cell_type": "markdown",
   "metadata": {},
   "source": [
    "# Class 6 - API\n",
    "\n",
    "- files recap\n",
    "- API's ?!?\n",
    "- JSON <> XML\n",
    "- The fun stuff\n",
    "  \n",
    "## Recap files \n",
    "\n",
    "read and group all activities per month from the file logbook.txt as a dictionary\n",
    "\n",
    "output: \n",
    "Jan : 70 activities <br>\n",
    "Feb : 75 act <br>\n",
    "March : 88 act <br>"
   ]
  },
  {
   "cell_type": "code",
   "execution_count": null,
   "metadata": {},
   "outputs": [],
   "source": [
    "import pathlib\n",
    "\n",
    "FILE = \"logbook.txt\"\n",
    "\n",
    "months = [\"January\",\"February\",\"March\",\"April\",\"May\",\"June\",\"July\",\"August\",\"Septemeber\",\"October\",\"November\",\"December\"]\n",
    "\n",
    "activities = {}\n",
    "\n",
    "\n",
    "with open(FILE,\"r\") as file:\n",
    "    for line in file.readlines():\n",
    "        month = int(line.split(\"-\")[1]) - 1 # -1 to get the correct index for the list \n",
    "\n",
    "        month_str = months[month]\n",
    "        \n",
    "        if month_str in activities.keys():\n",
    "            activities[month_str] += 1\n",
    "        else:\n",
    "            activities[month_str] = 1\n",
    "\n",
    "for month in months:\n",
    "    print(month, \":\", activities[month], \"activities\")\n",
    "\n",
    "\n",
    "\n",
    "    \n",
    "        \n"
   ]
  },
  {
   "cell_type": "markdown",
   "metadata": {},
   "source": [
    "## Json & XML"
   ]
  },
  {
   "cell_type": "code",
   "execution_count": null,
   "metadata": {},
   "outputs": [],
   "source": [
    "import json\n",
    "\n",
    "# string json example\n",
    "\n",
    "json_data = '{\"name\": \"Xander\", \"age\":\"21\", \"study\":\"adi\" }'\n",
    "\n",
    "data = json.loads(json_data) # string load\n",
    "\n",
    "print(data[\"name\"])\n",
    "\n",
    "\n",
    "json_file = open(\"books.json\",\"r\")\n",
    "data = json.load(json_file)  # file load opt 1\n",
    "#data = json.loads(json_file.read()) # string load opt 2\n",
    "\n",
    "print(data[\"books\"][0][\"title\"])\n",
    "print(data)\n",
    "print()\n",
    "\n",
    "for book in data[\"books\"]:\n",
    "    print(book[\"title\"])\n",
    "\n",
    "json_file.close()\n",
    "\n",
    "\n"
   ]
  },
  {
   "cell_type": "code",
   "execution_count": null,
   "metadata": {},
   "outputs": [],
   "source": [
    "json_file = open(\"activities.json\",\"w\")\n",
    "\n",
    "json.dump(activities,json_file)\n",
    "\n",
    "json_file.close()"
   ]
  },
  {
   "cell_type": "code",
   "execution_count": null,
   "metadata": {},
   "outputs": [],
   "source": [
    "import json\n",
    "\n",
    "python_data = {}\n",
    "python_data[\"people\"] = []\n",
    "python_data[\"people\"].append({'name':'Jason Statham','age':54})\n",
    "python_data[\"people\"].append({'name':\"Jason Momoa\",'age':44})\n",
    "python_data[\"people\"].append({'name':'Jeniffer Jason Leigh','age':59})\n",
    "python_data[\"people\"].append({'name':'Jason Borne','age':27})\n",
    "python_data[\"people\"].append({'name':'Jason Derulo','age':34})\n",
    "\n",
    "\n",
    "json_file = open('jason.json','w')\n",
    "json_data = json.dump(python_data,json_file)\n",
    "json_file.close()"
   ]
  },
  {
   "cell_type": "markdown",
   "metadata": {},
   "source": [
    "# Consume an API\n",
    "\n",
    "makeing a request --> pip install requests\n",
    "\n",
    "make an account on rapidapi\n",
    "\n",
    "API's:\n",
    "- kanye.rest\n",
    "- dad jokes (ninjas)\n",
    "- love calc\n",
    "- weather (ninjas)\n",
    "- text translaton\n",
    "- random cat facts \n",
    "  \n",
    "NEVER USE YOUR CARD"
   ]
  },
  {
   "cell_type": "code",
   "execution_count": null,
   "metadata": {},
   "outputs": [],
   "source": [
    "! pip install requests"
   ]
  },
  {
   "cell_type": "code",
   "execution_count": 40,
   "metadata": {},
   "outputs": [],
   "source": [
    "import json\n",
    "\n",
    "def read_api_secret():\n",
    "    with open('../secrets.json', 'r') as f:\n",
    "        config = json.load(f)\n",
    "        return config['api_secret_token']\n",
    "\n",
    "api_secret_token = read_api_secret()"
   ]
  },
  {
   "cell_type": "code",
   "execution_count": 35,
   "metadata": {},
   "outputs": [
    {
     "name": "stdout",
     "output_type": "stream",
     "text": [
      "200\n",
      "from text {\"quote\":\"I am the head of Adidas. I will bring Adidas and Puma back together and bring me and jay back together\"} to json I am the head of Adidas. I will bring Adidas and Puma back together and bring me and jay back together\n",
      "I am the head of Adidas. I will bring Adidas and Puma back together and bring me and jay back together\n"
     ]
    }
   ],
   "source": [
    "import json \n",
    "import requests\n",
    "\n",
    "url = \"https://api.kanye.rest/\"\n",
    "\n",
    "response = requests.get(url)\n",
    "print(response.status_code)\n",
    "\n",
    "text = response.text\n",
    "\n",
    "data = json.loads(text)\n",
    "print(\"from text\",text,\"to json\", data[\"quote\"])\n",
    "\n",
    "data = response.json()\n",
    "\n",
    "print(data[\"quote\"])\n",
    "\n"
   ]
  },
  {
   "cell_type": "code",
   "execution_count": 37,
   "metadata": {},
   "outputs": [
    {
     "name": "stdout",
     "output_type": "stream",
     "text": [
      "[{'joke': 'Where do pirates get their hooks? Second hand stores.'}]\n"
     ]
    }
   ],
   "source": [
    "import requests\n",
    "\n",
    "url = \"https://dad-jokes-by-api-ninjas.p.rapidapi.com/v1/dadjokes\"\n",
    "\n",
    "headers = {\n",
    "\t\"X-RapidAPI-Key\": api_secret_token,\n",
    "\t\"X-RapidAPI-Host\": \"dad-jokes-by-api-ninjas.p.rapidapi.com\"\n",
    "}\n",
    "\n",
    "response = requests.get(url, headers=headers)\n",
    "\n",
    "# respone = request.request(\"GET\",url,headers=headers) --> general way\n",
    "\n",
    "print(response.json())\n",
    "\n",
    "\n",
    "with open(\"dadjokes.txt\",\"a\") as file:\n",
    "    file.write(\"\\n\")\n",
    "    file.write(str(response.json()))"
   ]
  },
  {
   "cell_type": "code",
   "execution_count": null,
   "metadata": {},
   "outputs": [],
   "source": []
  },
  {
   "cell_type": "code",
   "execution_count": 50,
   "metadata": {},
   "outputs": [
    {
     "name": "stdout",
     "output_type": "stream",
     "text": [
      "64 % match --> All the best!\n"
     ]
    }
   ],
   "source": [
    "import requests\n",
    "\n",
    "url = \"https://love-calculator.p.rapidapi.com/getPercentage\"\n",
    "\n",
    "sname = input(\"Give a name\")\n",
    "fname = input(\"Give a name\")\n",
    "\n",
    "querystring = {\"fname\":fname,\"sname\":fname}\n",
    "\n",
    "headers = {\n",
    "\t\"X-RapidAPI-Key\": api_secret_token,\n",
    "\t\"X-RapidAPI-Host\": \"love-calculator.p.rapidapi.com\"\n",
    "}\n",
    "\n",
    "response = requests.get(url, headers=headers, params=querystring)\n",
    "\n",
    "data = response.json()\n",
    "\n",
    "print(data[\"percentage\"],\"% match -->\", data[\"result\"] )"
   ]
  },
  {
   "cell_type": "code",
   "execution_count": 59,
   "metadata": {},
   "outputs": [
    {
     "name": "stdout",
     "output_type": "stream",
     "text": [
      "Wheather info from paris\n",
      "Temperature 15 degrees but feelslike 14\n",
      "it's as humit as a sauna of clouds, because our humidity is 69\n",
      "\n",
      "Wheather info from paris\n",
      "Temperature 15 degrees but feelslike 14\n",
      "it's as humit as a sauna of clouds, because our humidity is 68\n"
     ]
    }
   ],
   "source": [
    "import requests\n",
    "\n",
    "url = \"https://weather-by-api-ninjas.p.rapidapi.com/v1/weather\"\n",
    "\n",
    "cityname = input(\"enter a city: \")\n",
    "\n",
    "\n",
    "querystring = {\"city\":cityname}\n",
    "\n",
    "headers = {\n",
    "\t\"X-RapidAPI-Key\": api_secret_token,\n",
    "\t\"X-RapidAPI-Host\": \"weather-by-api-ninjas.p.rapidapi.com\"\n",
    "}\n",
    "\n",
    "# exeption handeling\n",
    "\n",
    "try:\n",
    "    response = requests.request(\"GET\",url,headers=headers,params=querystring)\n",
    "    data = response.json()\n",
    "    #print(data)\n",
    "\n",
    "    print(\"Wheather info from\",cityname)\n",
    "    print(\"Temperature\",data[\"temp\"],\"degrees but feelslike\", data[\"feels_like\"])\n",
    "    print(\"it's as humit as a sauna of clouds, because our humidity is\", data[\"humidity\"])\n",
    "\n",
    "except:\n",
    "    print(\"oops\")\n",
    "\n",
    "\n",
    "print()\n",
    "\n",
    "# seconds way \n",
    "\n",
    "if response.status_code == 200:\n",
    "    response = requests.request(\"GET\",url,headers=headers,params=querystring)\n",
    "    data = response.json()\n",
    "    #print(data)\n",
    "\n",
    "    print(\"Wheather info from\",cityname)\n",
    "    print(\"Temperature\",data[\"temp\"],\"degrees but feelslike\", data[\"feels_like\"])\n",
    "    print(\"it's as humit as a sauna of clouds, because our humidity is\", data[\"humidity\"])\n",
    "else:\n",
    "    print(\"oops\")\n",
    "\n"
   ]
  },
  {
   "cell_type": "code",
   "execution_count": 69,
   "metadata": {},
   "outputs": [
    {
     "name": "stdout",
     "output_type": "stream",
     "text": [
      "The correct translation is: {'translatedText': 'यह वर्ग आखिरकार सभी संघर्षों के बाद मज़ेदार है'}\n"
     ]
    }
   ],
   "source": [
    "import requests\n",
    "\n",
    "url = \"https://text-translator2.p.rapidapi.com/translate\"\n",
    "\n",
    "payload = {\n",
    "\t\"source_language\": \"en\",\n",
    "\t\"target_language\": \"hi\",\n",
    "\t\"text\": \"This class is finally fun after all the struggles we've been trough\"\n",
    "}\n",
    "\n",
    "headers = {\n",
    "\t\"content-type\": \"application/x-www-form-urlencoded\",\n",
    "\t\"X-RapidAPI-Key\": api_secret_token,\n",
    "\t\"X-RapidAPI-Host\": \"text-translator2.p.rapidapi.com\"\n",
    "}\n",
    "\n",
    "response = requests.post(url, data=payload, headers=headers)\n",
    "\n",
    "data = response.json()\n",
    "\n",
    "print(\"The correct translation is:\", data[\"data\"][\"translatedText\"])"
   ]
  }
 ],
 "metadata": {
  "kernelspec": {
   "display_name": ".venv",
   "language": "python",
   "name": "python3"
  },
  "language_info": {
   "codemirror_mode": {
    "name": "ipython",
    "version": 3
   },
   "file_extension": ".py",
   "mimetype": "text/x-python",
   "name": "python",
   "nbconvert_exporter": "python",
   "pygments_lexer": "ipython3",
   "version": "3.11.8"
  }
 },
 "nbformat": 4,
 "nbformat_minor": 2
}
