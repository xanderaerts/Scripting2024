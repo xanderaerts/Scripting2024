{
 "cells": [
  {
   "cell_type": "markdown",
   "metadata": {},
   "source": [
    "# Webscraping - week 7\n",
    "- making requests\n",
    "- work with BeautifulSoup\n",
    "- combining scraping and API's\n",
    "- download anything we find\n",
    "\n",
    "## "
   ]
  },
  {
   "cell_type": "code",
   "execution_count": null,
   "metadata": {},
   "outputs": [],
   "source": [
    "import requests\n",
    "import json\n",
    "\n",
    "url = \"https://techy-api.vercel.app/api/json\"\n",
    "\n",
    "#response = requests.get(url) # new\n",
    "response = requests.request(\"GET\",url) # old\n",
    "\n",
    "text = response.text\n",
    "\n",
    "data = json.loads(text) # string load\n",
    "\n",
    "print(\"Quote of the day:\\n\",data[\"message\"])"
   ]
  },
  {
   "cell_type": "markdown",
   "metadata": {},
   "source": [
    "# EX\n",
    "\n",
    "- char names Ambrose appears in which films?\n",
    "- char --> most films and how many?\n",
    "- provide a list wich characters with at least 1 film and 1 video game"
   ]
  },
  {
   "cell_type": "code",
   "execution_count": null,
   "metadata": {},
   "outputs": [],
   "source": [
    "import json\n",
    "import requests\n",
    " \n",
    "url = \"https://api.disneyapi.dev/character\"\n",
    "\n",
    "resp = requests.get(url)\n",
    "text = resp.text\n",
    "data = json.loads(text)\n",
    "data = data[\"data\"]\n",
    "\n",
    "\n",
    "Ambrose = \"Ambrose\"\n",
    "for char in data:\n",
    "    if char[\"name\"] == Ambrose:\n",
    "        listOfFilmsAmbrose = char[\"films\"] \n",
    "\n",
    "\n",
    "mostFilms = \"\"\n",
    "n = -1\n",
    "\n",
    "for char in data:\n",
    "    if len(char[\"films\"]) > n:\n",
    "        n = len(char[\"films\"])\n",
    "        mostFilms = char[\"name\"]\n",
    "\n",
    "listofChars = []\n",
    "\n",
    "for char in data:\n",
    "    if len(char[\"films\"]) >= 1 and len(char[\"videoGames\"]) >= 1:\n",
    "        listofChars.append(char)\n",
    "\n",
    "\n",
    "\n",
    "print(Ambrose, \"appears in\", len(listOfFilmsAmbrose),\"movies:\")\n",
    "for x in listOfFilmsAmbrose: print(x)\n",
    "\n",
    "print()\n",
    "\n",
    "print(\"The character with the most movies is\",mostFilms,\"with\",n,\"amount of films\")\n",
    "\n",
    "print()\n",
    "\n",
    "print(\"All chars with a movie and video game\")\n",
    "\n",
    "for x in listofChars:\n",
    "    print(x[\"name\"])\n",
    "        \n",
    "\n",
    "        "
   ]
  },
  {
   "cell_type": "markdown",
   "metadata": {},
   "source": [
    "# Scraping the web "
   ]
  },
  {
   "cell_type": "code",
   "execution_count": null,
   "metadata": {},
   "outputs": [],
   "source": [
    "import re\n",
    "import requests\n",
    "\n",
    "url = \"https://en.wikipedia.org/wiki/Elephant\"\n",
    "response = requests.get(url)\n",
    "\n",
    "if response.status_code == 200: \n",
    "    html = response.text\n",
    "    \n",
    "    regex = \"elephant|Elephant\"\n",
    "\n",
    "    matches = re.findall(regex,html)\n",
    "    print(len(matches))\n",
    "else:\n",
    "    print(\"try again\")"
   ]
  },
  {
   "cell_type": "code",
   "execution_count": null,
   "metadata": {},
   "outputs": [],
   "source": [
    "! pip install BeautifulSoup4"
   ]
  },
  {
   "cell_type": "code",
   "execution_count": null,
   "metadata": {},
   "outputs": [],
   "source": [
    "import requests\n",
    "from bs4 import BeautifulSoup\n",
    "\n",
    "url = \"https://en.wikipedia.org/wiki/Elephant\"\n",
    "\n",
    "resp = requests.get(url)\n",
    "\n",
    "html = response.text\n",
    "\n",
    "soup = BeautifulSoup(html)\n",
    "#print(soup)\n",
    "#print(soup.prettify())\n",
    "\n",
    "print(soup.title)\n",
    "print(soup.title.get_text())\n",
    "print(soup.get_text()[:500].split())\n",
    "\n",
    "print(soup.get_text().count(\"Elephant\"))\n",
    "print(soup.get_text().count(\"elephant\"))\n",
    "\n",
    "h3_tags = soup.find(\"h3\")\n",
    "print(h3_tags)\n",
    "\n",
    "h3_tags = soup.find_all(\"h3\")\n",
    "print(h3_tags)\n",
    "\n",
    "for element in h3_tags:\n",
    "    print(element.get_text())\n",
    "\n"
   ]
  },
  {
   "cell_type": "code",
   "execution_count": null,
   "metadata": {},
   "outputs": [],
   "source": [
    "import requests \n",
    "from bs4 import BeautifulSoup\n",
    "\n",
    "url = \"https://en.wikipedia.org/wiki/Elephant\"\n",
    "\n",
    "resp = requests.get(url)\n",
    "soup = BeautifulSoup(resp.text)\n",
    "\n",
    "li_tags = soup.find_all(\"li\",{'class':'interlanguage-link'})\n",
    "\n",
    "for tag in li_tags:\n",
    "    print(tag.a[\"title\"], \"-->\",tag.get_text())"
   ]
  },
  {
   "cell_type": "code",
   "execution_count": null,
   "metadata": {},
   "outputs": [],
   "source": [
    "from bs4 import BeautifulSoup\n",
    "import re\n",
    "import requests\n",
    "\n",
    "url = \"https://en.wikipedia.org/wiki/Soup\"\n",
    "\n",
    "r = requests.get(url)\n",
    "\n",
    "soup = BeautifulSoup(r.text)\n",
    "\n",
    "img_tags = soup.find_all('img') #getting all img tags\n",
    "src = [img['src'] for img in img_tags] # only url'set\n",
    "\n",
    "result = re.findall(r'(/\\w+[.](jpg|png|gif))',str(src))\n",
    "\n",
    "for ulr in result:\n",
    "    print(url[0])\n",
    "\n"
   ]
  },
  {
   "cell_type": "code",
   "execution_count": null,
   "metadata": {},
   "outputs": [],
   "source": [
    "from bs4 import BeautifulSoup\n",
    "import re\n",
    "import requests\n",
    "\n",
    "\n",
    "url = \"https://www.meteoblue.com/nl/weer/webcams/new-york_verenigde-staten_5128581\"\n",
    "\n",
    "resp = requests.get(url)\n",
    "\n",
    "soup = BeautifulSoup(resp.content,\"html.parser\")\n",
    "\n",
    "images = soup.find_all('img')\n",
    "\n",
    "count = 0 \n",
    "\n",
    "for img in images:\n",
    "    url = img[\"src\"]\n",
    "    filename = \"Images/meteoblue_\" + str(count) + \".jpg\"\n",
    "    r = requests.get(url,allow_redirects=True)\n",
    "\n",
    "    with open(filename,'wb') as file:\n",
    "        file.write(r.content)\n",
    "    count += 1"
   ]
  },
  {
   "cell_type": "markdown",
   "metadata": {},
   "source": [
    "### Practice makes perfect \n",
    "\n",
    "scrape Soup wiki more and:\n",
    " - actually download the image \n",
    " - print all traditional regional varients\n",
    " - print all books for future reading\n",
    " - get more info on every book https://openlibary.org/dev/docs/api/books\n",
    "\n",
    "challange yourself scrapethissite.com\n",
    " - find all flags from all countries\n",
    " - find all island (in the name)\n",
    " - find the smallest and largest country \n",
    " - find all coutnries with an a "
   ]
  }
 ],
 "metadata": {
  "kernelspec": {
   "display_name": ".venv",
   "language": "python",
   "name": "python3"
  },
  "language_info": {
   "codemirror_mode": {
    "name": "ipython",
    "version": 3
   },
   "file_extension": ".py",
   "mimetype": "text/x-python",
   "name": "python",
   "nbconvert_exporter": "python",
   "pygments_lexer": "ipython3",
   "version": "3.11.8"
  }
 },
 "nbformat": 4,
 "nbformat_minor": 2
}
