{
 "cells": [
  {
   "cell_type": "markdown",
   "id": "f375f87a",
   "metadata": {},
   "source": [
    "# Currency Converter"
   ]
  },
  {
   "cell_type": "markdown",
   "id": "d3789ca7",
   "metadata": {},
   "source": [
    "Description"
   ]
  },
  {
   "cell_type": "markdown",
   "id": "0f81481e",
   "metadata": {},
   "source": [
    "- You only need request package from Python.\n",
    "\n",
    "- With the requests module, we can make HTTP requests to the Fixer API (https://fixer.io/),\n",
    "\n",
    "- We want to convert one currency to another. \n",
    "\n",
    "- You’ll need to sign up to get a free API key. \n",
    "\n",
    "- I want to be able to introduce a from and a to currency and an amount of money. The code should make a request to the API to do curch coversion between the currencies.\n",
    "\n",
    "- Remember your key should be part of your headers."
   ]
  },
  {
   "cell_type": "code",
   "execution_count": null,
   "id": "45205f78",
   "metadata": {},
   "outputs": [],
   "source": []
  }
 ],
 "metadata": {
  "kernelspec": {
   "display_name": "Python 3 (ipykernel)",
   "language": "python",
   "name": "python3"
  },
  "language_info": {
   "codemirror_mode": {
    "name": "ipython",
    "version": 3
   },
   "file_extension": ".py",
   "mimetype": "text/x-python",
   "name": "python",
   "nbconvert_exporter": "python",
   "pygments_lexer": "ipython3",
   "version": "3.9.12"
  }
 },
 "nbformat": 4,
 "nbformat_minor": 5
}
