{
 "cells": [
  {
   "cell_type": "markdown",
   "id": "6d94a2ef",
   "metadata": {},
   "source": [
    "# Generating random quizes\n",
    "    Creates quizzes with questions and answers in\n",
    "    random order, along with the answer key."
   ]
  },
  {
   "cell_type": "markdown",
   "id": "8991729b",
   "metadata": {},
   "source": [
    "- You want to give a pop quiz.\n",
    "- Your class has a few bad eggs in it, and you can’t trust the students not to cheat. \n",
    "- You’d like to randomize the order of questions so that each quiz is unique, making it impossible for anyone to crib answers from anyone else. \n",
    "- Of course, doing this by hand would be a lengthy and boring affair. Fortunately, you know some Python."
   ]
  },
  {
   "cell_type": "markdown",
   "id": "c2333dea",
   "metadata": {},
   "source": [
    "Here is what the program does:\n",
    "\n",
    "- Creates 35 different quizzes\n",
    "- Creates 50 multiple-choice questions for each quiz, in random order\n",
    "- Provides the correct answer and three random wrong answers for each question, in random order\n",
    "- Writes the quizzes to 35 text files\n",
    "- Writes the answer keys to 35 text files\n",
    "This means the code will need to do the following:\n",
    "\n",
    "    - Store the states and \n",
    "    - their capitals in a dictionary\n",
    "    - Call open(), write(), and close() for the quiz and answer key text files\n",
    "    - Use random.shuffle() to randomize the order of the questions and multiple-choice options\n"
   ]
  },
  {
   "cell_type": "code",
   "execution_count": 2,
   "id": "c245b051",
   "metadata": {},
   "outputs": [],
   "source": [
    "# The quiz data. Keys are states and values are their capitals.\n",
    "# Use capitals in your code\n",
    "\n",
    "capitals = {'Alabama': 'Montgomery', 'Alaska': 'Juneau', 'Arizona': 'Phoenix',\n",
    "   'Arkansas': 'Little Rock', 'California': 'Sacramento', 'Colorado': 'Denver',\n",
    "   'Connecticut': 'Hartford', 'Delaware': 'Dover', 'Florida': 'Tallahassee',\n",
    "   'Georgia': 'Atlanta', 'Hawaii': 'Honolulu', 'Idaho': 'Boise', 'Illinois':\n",
    "   'Springfield', 'Indiana': 'Indianapolis', 'Iowa': 'Des Moines', 'Kansas':\n",
    "   'Topeka', 'Kentucky': 'Frankfort', 'Louisiana': 'Baton Rouge', 'Maine':\n",
    "   'Augusta', 'Maryland': 'Annapolis', 'Massachusetts': 'Boston', 'Michigan':\n",
    "   'Lansing', 'Minnesota': 'Saint Paul', 'Mississippi': 'Jackson', 'Missouri':\n",
    "   'Jefferson City', 'Montana': 'Helena', 'Nebraska': 'Lincoln', 'Nevada':\n",
    "   'Carson City', 'New Hampshire': 'Concord', 'New Jersey': 'Trenton', \n",
    "    'New Mexico': 'Santa Fe', 'New York': 'Albany',\n",
    "   'North Carolina': 'Raleigh', 'North Dakota': 'Bismarck', 'Ohio': 'Columbus', 'Oklahoma': 'Oklahoma City',\n",
    "   'Oregon': 'Salem', 'Pennsylvania': 'Harrisburg', 'Rhode Island': 'Providence',\n",
    "   'South Carolina': 'Columbia', 'South Dakota': 'Pierre', 'Tennessee':\n",
    "   'Nashville', 'Texas': 'Austin', 'Utah': 'Salt Lake City', 'Vermont':\n",
    "   'Montpelier', 'Virginia': 'Richmond', 'Washington': 'Olympia', \n",
    "   'West Virginia': 'Charleston', 'Wisconsin': 'Madison', 'Wyoming': 'Cheyenne'}"
   ]
  },
  {
   "cell_type": "code",
   "execution_count": 1,
   "id": "6e253b4d",
   "metadata": {},
   "outputs": [],
   "source": [
    "import random"
   ]
  }
 ],
 "metadata": {
  "kernelspec": {
   "display_name": "Python 3 (ipykernel)",
   "language": "python",
   "name": "python3"
  },
  "language_info": {
   "codemirror_mode": {
    "name": "ipython",
    "version": 3
   },
   "file_extension": ".py",
   "mimetype": "text/x-python",
   "name": "python",
   "nbconvert_exporter": "python",
   "pygments_lexer": "ipython3",
   "version": "3.11.8"
  }
 },
 "nbformat": 4,
 "nbformat_minor": 5
}
