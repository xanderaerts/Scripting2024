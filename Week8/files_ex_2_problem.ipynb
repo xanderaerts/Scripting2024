{
 "cells": [
  {
   "cell_type": "markdown",
   "id": "f623b130",
   "metadata": {},
   "source": [
    "# Renaming Files with American-Style Dates to European-Style Dates\n"
   ]
  },
  {
   "cell_type": "markdown",
   "id": "eb03d64f",
   "metadata": {},
   "source": [
    "Your boss emails you thousands of files with American-style dates (MM-DD-YYYY) \n",
    "in their names and needs them renamed to European-style dates (DD-MM-YYYY). "
   ]
  },
  {
   "cell_type": "markdown",
   "id": "03532fd5",
   "metadata": {},
   "source": [
    "Here’s what the program does:\n",
    "\n",
    "- It searches all the filenames in the current working directory for American-style dates.\n",
    "- When one is found, it renames the file with the month and day swapped to make it European-style.\n",
    "- This means the code will need to do the following:\n",
    "\n",
    "- Create a regex that can identify the text pattern of American-style dates.\n",
    "- Call os.listdir() to find all the files in the working directory.\n",
    "- Loop over each filename, using the regex to check whether it has a date.\n",
    "- If it has a date, rename the file with shutil.move().\n"
   ]
  },
  {
   "cell_type": "code",
   "execution_count": null,
   "id": "8ac17d1f",
   "metadata": {},
   "outputs": [],
   "source": []
  }
 ],
 "metadata": {
  "kernelspec": {
   "display_name": "Python 3 (ipykernel)",
   "language": "python",
   "name": "python3"
  },
  "language_info": {
   "codemirror_mode": {
    "name": "ipython",
    "version": 3
   },
   "file_extension": ".py",
   "mimetype": "text/x-python",
   "name": "python",
   "nbconvert_exporter": "python",
   "pygments_lexer": "ipython3",
   "version": "3.9.12"
  }
 },
 "nbformat": 4,
 "nbformat_minor": 5
}
