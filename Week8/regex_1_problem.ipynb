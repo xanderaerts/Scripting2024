{
 "cells": [
  {
   "cell_type": "markdown",
   "id": "0c059396",
   "metadata": {},
   "source": [
    "# Phone Number and Email Address Extractor"
   ]
  },
  {
   "cell_type": "markdown",
   "id": "339b7747",
   "metadata": {},
   "source": [
    "Description:\n",
    "\n",
    "- You want to automate the task of finding every phone number and email address in a long web page or document.\n",
    "\n",
    "- You will create a program that could search the text in your clipboard for phone numbers and email addresses, you could simply press CTRL-A to select all the text, press CTRL-C to copy it to the clipboard, and then run your program. \n",
    "\n",
    "- Your phone and email address extractor will need to do the following:\n",
    "\n",
    "    - Get the text off the clipboard.\n",
    "    - Find all phone numbers and email addresses in the text.\n",
    "    - Paste them onto the clipboard."
   ]
  },
  {
   "cell_type": "markdown",
   "id": "702c4f45",
   "metadata": {},
   "source": [
    "Suggestion:\n",
    "\n",
    "- You can start thinking about how this might work in code. The code will need to do the following:\n",
    "    - Use the pyperclip module to copy and paste strings.\n",
    "    - Create two regexes, one for matching phone numbers and the other for matching email addresses.\n",
    "    - Find all matches, not just the first match, of both regexes.\n",
    "    - Neatly format the matched strings into a single string to paste.\n",
    "    - Display some kind of message if no matches were found in the text.\n"
   ]
  },
  {
   "cell_type": "markdown",
   "id": "42344692",
   "metadata": {},
   "source": [
    "You need to use the following command:\n",
    "- pip install pyperclip"
   ]
  },
  {
   "cell_type": "code",
   "execution_count": 13,
   "id": "a86075e2",
   "metadata": {},
   "outputs": [
    {
     "name": "stdout",
     "output_type": "stream",
     "text": [
      "Copy\n",
      "800.420.724\n",
      "415.863.990\n",
      "415.863.995\n"
     ]
    }
   ],
   "source": [
    "import pyperclip\n",
    "import re\n",
    "\n",
    "text = pyperclip.paste()\n",
    "\n",
    "\n",
    "phoneRegex = re.compile(r'''(\\d\\d\\d.\\d\\d\\d.\\d\\d\\d)''',re.VERBOSE)\n",
    "\n",
    "emailRegex = re.compile(r'''(\n",
    "    [a-zA-Z0-9._%+-]+ # username \n",
    "    @ # at symbol\n",
    "    [a-zA-Z0-9.-] # domain\n",
    "    (\\.[a-zA-Z]{2-4})\n",
    "    )''',re.VERBOSE)\n",
    "\n",
    "\n",
    "matches = []\n",
    "\n",
    "for groups in phoneRegex.findall(text):\n",
    "    phoneNum = '-'.join([groups[1],groups[3],groups[5]])\n",
    "\n",
    "    if groups[8] != '':\n",
    "        phoneNum = groups\n",
    "        matches.append(phoneNum)\n",
    "\n",
    "for groups in emailRegex.findall(text):\n",
    "    matches.append(groups[0])\n",
    "\n",
    "if len(matches) > 0:\n",
    "    pyperclip.copy('\\n'.join(matches))\n",
    "    print('Copy')\n",
    "    print('\\n'.join(matches))\n",
    "else:\n",
    "    print(\"no matches\")\n"
   ]
  }
 ],
 "metadata": {
  "kernelspec": {
   "display_name": "Python 3 (ipykernel)",
   "language": "python",
   "name": "python3"
  },
  "language_info": {
   "codemirror_mode": {
    "name": "ipython",
    "version": 3
   },
   "file_extension": ".py",
   "mimetype": "text/x-python",
   "name": "python",
   "nbconvert_exporter": "python",
   "pygments_lexer": "ipython3",
   "version": "3.11.8"
  }
 },
 "nbformat": 4,
 "nbformat_minor": 5
}
