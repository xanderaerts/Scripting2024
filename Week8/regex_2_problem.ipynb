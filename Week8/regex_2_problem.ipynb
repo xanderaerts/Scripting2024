{
 "cells": [
  {
   "cell_type": "markdown",
   "id": "3d95c0e7",
   "metadata": {},
   "source": [
    "# Strong password detection"
   ]
  },
  {
   "cell_type": "markdown",
   "id": "52b5f3db",
   "metadata": {},
   "source": [
    "Write function that uses regular expressions to make sure the password string\n",
    "it is passed is strong. A strong password is defined as one that is at least \n",
    "eight characters long, contains both uppercase and lowercase characters, and \n",
    "has at least one digit."
   ]
  },
  {
   "cell_type": "code",
   "execution_count": 4,
   "id": "a6159f0a",
   "metadata": {},
   "outputs": [
    {
     "name": "stdout",
     "output_type": "stream",
     "text": [
      "It does not have upcase\n",
      "it does not have digit\n",
      "It does not have lowercase\n",
      "good\n"
     ]
    }
   ],
   "source": [
    "import re\n",
    "\n",
    "lowercase = re.compile(r'[a-z]')\n",
    "upcase = re.compile(r'[A-Z]')\n",
    "digit = re.compile(r'(\\d)')\n",
    "space_8 = re.compile(r'^[a-zA-Z0-9]{8,}$')\n",
    "\n",
    "def strongpas():\n",
    "    while True:\n",
    "        pswd = input(\"Give a pswd\")\n",
    "        if lowercase.search(pswd) == None:\n",
    "            print(\"It does not have lowercase\")\n",
    "            continue\n",
    "        if upcase.search(pswd) == None:\n",
    "            print(\"It does not have upcase\")\n",
    "            continue\n",
    "        if digit.search(pswd) == None:\n",
    "            print(\"it does not have digit\")\n",
    "            continue\n",
    "        if space_8.search(pswd) == None:\n",
    "            print(\"to short\")\n",
    "            continue\n",
    "        else:\n",
    "            print(\"good\")\n",
    "            break\n",
    "    \n",
    "strongpas()\n",
    "\n",
    "\n",
    "\n",
    "\n",
    "\n"
   ]
  }
 ],
 "metadata": {
  "kernelspec": {
   "display_name": "Python 3 (ipykernel)",
   "language": "python",
   "name": "python3"
  },
  "language_info": {
   "codemirror_mode": {
    "name": "ipython",
    "version": 3
   },
   "file_extension": ".py",
   "mimetype": "text/x-python",
   "name": "python",
   "nbconvert_exporter": "python",
   "pygments_lexer": "ipython3",
   "version": "3.11.8"
  }
 },
 "nbformat": 4,
 "nbformat_minor": 5
}
