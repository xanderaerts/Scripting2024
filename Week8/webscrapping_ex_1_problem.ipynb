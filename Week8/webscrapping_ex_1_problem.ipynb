{
 "cells": [
  {
   "cell_type": "markdown",
   "id": "d4d6c813",
   "metadata": {},
   "source": [
    "# Opening all search results\n",
    "\n",
    "Create a program that by giving something to search the program search the term and automatically open a browser with all the top search results in new tabs."
   ]
  },
  {
   "cell_type": "markdown",
   "id": "3ef1919c",
   "metadata": {},
   "source": [
    "The program should:\n",
    "\n",
    "- Gets search keywords from the command line arguments\n",
    "- Retrieves the search results page\n",
    "- Opens a browser tab for each result.\n",
    "\n",
    "    This means your code will need to do the following:\n",
    "    \n",
    "        - Read input from the user (what should we search?), using input function.\n",
    "        - Fetch the search result page with the requests module.\n",
    "        - Find the links to each search result.\n",
    "        - Call the webbrowser.open() function to open the web browser.\n",
    "        - Open a new file editor tab and save it as searchpypi.py."
   ]
  },
  {
   "cell_type": "markdown",
   "id": "cdd51695",
   "metadata": {},
   "source": [
    "Before coding anything, you first need to know the URL of the search result page. By looking at the browser’s address bar after doing a search, you can see that the result page has a URL like https://pypi.org/search/?q=<SEARCH_TERM_HERE>. The requests module can download this page and then you can use Beautiful Soup to find the search result links in the HTML. Finally, you’ll use the webbrowser module to open those links in browser tabs."
   ]
  },
  {
   "cell_type": "markdown",
   "id": "2982b017",
   "metadata": {},
   "source": [
    "TIPS and NOTES:\n",
    "\n",
    "    - you need to use the request method get() with this url as input:\n",
    "        'https://pypi.org/search/?q=' + ' '.join(to_search)\n",
    "        Where \"to_search\" is the raw input.\n",
    "        \n",
    "    - Retrieve top search result links.\n",
    "\n",
    "    - Open a browser tab for each result."
   ]
  },
  {
   "cell_type": "code",
   "execution_count": null,
   "id": "d7ac1161",
   "metadata": {},
   "outputs": [],
   "source": []
  }
 ],
 "metadata": {
  "kernelspec": {
   "display_name": "Python 3 (ipykernel)",
   "language": "python",
   "name": "python3"
  },
  "language_info": {
   "codemirror_mode": {
    "name": "ipython",
    "version": 3
   },
   "file_extension": ".py",
   "mimetype": "text/x-python",
   "name": "python",
   "nbconvert_exporter": "python",
   "pygments_lexer": "ipython3",
   "version": "3.9.12"
  }
 },
 "nbformat": 4,
 "nbformat_minor": 5
}
