{
 "cells": [
  {
   "cell_type": "markdown",
   "metadata": {},
   "source": [
    "# Scheduling - w9\n",
    "- (date)time module\n",
    "- Single vs mulitthreading\n",
    "- launching programs\n",
    "\n",
    "## (Date)time module\n",
    "- see unix epoch converter online -> https://www.epochconverter.com/\n"
   ]
  },
  {
   "cell_type": "code",
   "execution_count": null,
   "metadata": {},
   "outputs": [],
   "source": [
    "import json\n",
    "\n",
    "def read_api_secret():\n",
    "    with open('../secrets.json', 'r') as f:\n",
    "        config = json.load(f)\n",
    "        return config['api_secret_token']\n",
    "\n",
    "api_secret_token = read_api_secret()"
   ]
  },
  {
   "cell_type": "code",
   "execution_count": null,
   "metadata": {},
   "outputs": [],
   "source": [
    "import time # module for UNIX EPOCH TIME\n",
    "\n",
    "print(time.time())\n",
    "print(time.ctime())\n",
    "print(time.ctime(0)) ## official starting time for datetime\n",
    "\n",
    "# check diff in seconds \n",
    "print(time.ctime(1713859602.4536977))\n",
    "print(time.ctime(1713859987))"
   ]
  },
  {
   "cell_type": "markdown",
   "metadata": {},
   "source": [
    "### Exercise\n",
    "\n",
    "Count number of seconds needed to consume an API"
   ]
  },
  {
   "cell_type": "code",
   "execution_count": null,
   "metadata": {},
   "outputs": [],
   "source": [
    "import requests\n",
    "import time\n",
    "\n",
    "url = \"https://facts-by-api-ninjas.p.rapidapi.com/v1/facts\"\n",
    "\n",
    "headers = {\n",
    "\t\"X-RapidAPI-Key\": api_secret_token,\n",
    "\t\"X-RapidAPI-Host\": \"facts-by-api-ninjas.p.rapidapi.com\"\n",
    "}\n",
    "\n",
    "starttime = time.time()\n",
    "response = requests.get(url, headers=headers)\n",
    "\n",
    "print(response.json()[0][\"fact\"])\n",
    "\n",
    "stoptime = time.time()\n",
    "\n",
    "seconds = stoptime - starttime\n",
    "\n",
    "print(\"It took\",seconds,\"seconds to run the api request\")"
   ]
  },
  {
   "cell_type": "code",
   "execution_count": null,
   "metadata": {},
   "outputs": [],
   "source": [
    "import requests \n",
    "import time\n",
    "\n",
    "url = \"https://worldtimeapi.org/api/timezone/Asia/Kolkata\"\n",
    "\n",
    "response = requests.get(url)\n",
    "\n",
    "data = json.loads(response.text)\n",
    "\n",
    "endtime = data[\"unixtime\"]\n",
    "starttime = time.time()\n",
    "\n",
    "difference = starttime - endtime\n",
    "\n",
    "print(difference)\n",
    "\n"
   ]
  },
  {
   "cell_type": "code",
   "execution_count": null,
   "metadata": {},
   "outputs": [],
   "source": [
    "import datetime as dt\n",
    "\n",
    "print(dt.datetime.now())\n",
    "\n",
    "date = dt.datetime(2000,5,10,0,0,0)\n",
    "\n",
    "\n",
    "print(date.year, date.month,date.day,date.hour,date.minute,date.second)\n",
    "print(dt.datetime.fromtimestamp(10000))\n",
    "print(dt.datetime.fromtimestamp(1713859602.4536977))\n",
    "\n",
    "print(dt.datetime.fromtimestamp(time.time()))\n",
    "print(dt.datetime.fromtimestamp(round(time.time(),0)))\n",
    "\n",
    "\n",
    "#fromd ate to string\n",
    "\n",
    "print(date.strftime(\"%d %B %y\"))\n",
    "print(date.strftime(\"day %j of %Y\"))"
   ]
  },
  {
   "cell_type": "markdown",
   "metadata": {},
   "source": [
    "## Multithreading \n",
    "\n"
   ]
  },
  {
   "cell_type": "code",
   "execution_count": null,
   "metadata": {},
   "outputs": [],
   "source": [
    "import time\n",
    "\n",
    "def sleep():\n",
    "    time.sleep(5)\n",
    "    print(\"WAKE UP!!\")\n",
    "\n",
    "def mulitplication(number):\n",
    "    for i in range(1,11):\n",
    "        print(i, \"* number =\",i * number)"
   ]
  },
  {
   "cell_type": "code",
   "execution_count": null,
   "metadata": {},
   "outputs": [],
   "source": [
    "# single threading \n",
    "\n",
    "print(\"START\")\n",
    "sleep()\n",
    "mulitplication(5)\n",
    "print(\"STOP\")"
   ]
  },
  {
   "cell_type": "code",
   "execution_count": null,
   "metadata": {},
   "outputs": [],
   "source": [
    "#multi\n",
    "\n",
    "import threading\n",
    "thread_sleep = threading.Thread(target=sleep)\n",
    "thread_multi = threading.Thread(target=mulitplication(5))\n",
    "\n",
    "print(\"START\")\n",
    "thread_sleep.start()\n",
    "thread_multi.start()\n",
    "print(\"STOP\")"
   ]
  },
  {
   "cell_type": "markdown",
   "metadata": {},
   "source": [
    "### Exercise \n",
    "Write a program that preforms the following steps:\n",
    "\n",
    "Create 2 functions --> function1() and function2()\n",
    "- function1() --> print number 1 --> 10 with delay of 0.5 seconds between each \n",
    "- function2() --> print letter A --> J with delay of 0.5 seconds between each letter \n",
    "- create 2 threads, one for each function, start simultaneously\n",
    "- wait for both to finish before exiting your program \n",
    "  \n",
    "  1 A 2 B 3 C 4 E ..."
   ]
  },
  {
   "cell_type": "code",
   "execution_count": 73,
   "metadata": {},
   "outputs": [
    {
     "name": "stdout",
     "output_type": "stream",
     "text": [
      "START\n",
      "1 A 2B  C3  4 D 5 E 6 F 7 K 8 H 9I  10 J FINISH\n"
     ]
    }
   ],
   "source": [
    "def f1():\n",
    "    for i in range(0,10):\n",
    "        print(i + 1,end =\" \")\n",
    "        time.sleep(0.5)\n",
    "def f2():\n",
    "    for i in \"ABCDEFKHIJ\":\n",
    "        print(i,end=\" \")\n",
    "        time.sleep(0.5)\n",
    "\n",
    "\n",
    "thread1 = threading.Thread(target=f1)\n",
    "thread2 = threading.Thread(target=f2)\n",
    "\n",
    "\n",
    "print(\"START\")\n",
    "thread1.start()\n",
    "thread2.start()\n",
    "\n",
    "thread1.join()\n",
    "thread2.join()\n",
    "print(\"FINISH\")\n",
    "\n",
    "# output being weird? -> concurrency \n",
    "# effect of multithreading and sleep comined with print"
   ]
  },
  {
   "cell_type": "markdown",
   "metadata": {},
   "source": [
    "## Lauching programs "
   ]
  },
  {
   "cell_type": "code",
   "execution_count": null,
   "metadata": {},
   "outputs": [],
   "source": []
  }
 ],
 "metadata": {
  "kernelspec": {
   "display_name": ".venv",
   "language": "python",
   "name": "python3"
  },
  "language_info": {
   "codemirror_mode": {
    "name": "ipython",
    "version": 3
   },
   "file_extension": ".py",
   "mimetype": "text/x-python",
   "name": "python",
   "nbconvert_exporter": "python",
   "pygments_lexer": "ipython3",
   "version": "3.11.8"
  }
 },
 "nbformat": 4,
 "nbformat_minor": 2
}
